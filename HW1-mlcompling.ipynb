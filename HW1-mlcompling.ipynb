{
  "cells": [
    {
      "cell_type": "markdown",
      "metadata": {
        "colab_type": "text",
        "id": "E7ME-ag0hoDA",
        "pycharm": {}
      },
      "source": [
        "# Данные"
      ]
    },
    {
      "cell_type": "code",
      "execution_count": 2,
      "metadata": {
        "pycharm": {
          "metadata": false,
          "name": "#%%\n"
        }
      },
      "outputs": [],
      "source": "import pandas as pd\nfrom pymorphy2 import MorphAnalyzer\nfrom string import punctuation\nfrom collections import Counter\nfrom nltk.corpus import stopwords\nimport fastText\nimport matplotlib.pyplot as plt\nimport seaborn as sns\nimport numpy as np\nfrom sklearn.model_selection import train_test_split\nfrom sklearn.utils import shuffle\nfrom sklearn.metrics import *\nfrom sklearn.discriminant_analysis import LinearDiscriminantAnalysis\nfrom sklearn.preprocessing import FunctionTransformer\nfrom sklearn.decomposition import PCA\nfrom sklearn.decomposition import LatentDirichletAllocation\nfrom sklearn.pipeline import Pipeline\nfrom sklearn.feature_extraction.text import *\nfrom sklearn.naive_bayes import MultinomialNB\nfrom sklearn.cluster import *\nfrom sklearn.manifold import TSNE\nfrom sklearn.preprocessing import StandardScaler\nfrom sklearn.linear_model import LogisticRegression"
    },
    {
      "cell_type": "code",
      "execution_count": 1,
      "metadata": {
        "colab": {
          "base_uri": "https://localhost:8080/",
          "height": 411
        },
        "colab_type": "code",
        "id": "eVLBU4s9fF-q",
        "outputId": "3116fcaf-0d65-4c62-c4fa-b1070be5aa5e",
        "pycharm": {}
      },
      "outputs": [],
      "source": [
        "file \u003d \u0027ML-for-compling/data/vk_texts_with_sources.csv\u0027\n",
        "df \u003d pd.read_csv(file, usecols \u003d [\u0027text\u0027, \u0027source\u0027])\n",
        "df.head()"
      ]
    },
    {
      "cell_type": "markdown",
      "metadata": {
        "colab_type": "text",
        "id": "dYNCAr17MFA3",
        "pycharm": {}
      },
      "source": [
        "# Домашнее задание 1 \n",
        "\n",
        "В этом домашнем задании вы будете решать задачу тематической классификации. Даны тексты, опубликованные в нескольких пабликах VK.com, посвященных государственным и муниципальным службам. Формально задача заключается в том, чтобы по тексту ($d$) определить в каком паблике он опубликован, то есть, к какому классу $c$ он принадлежит. "
      ]
    },
    {
      "cell_type": "markdown",
      "metadata": {
        "colab_type": "text",
        "id": "e2EnN-U7MemU",
        "pycharm": {}
      },
      "source": [
        "## Задание 1 [2 балла]. Описательные статистики\n",
        "Посчитайте:\n",
        "* количество текстов и количество классов\n",
        "* количество слов (без лемматизации и с лемматизацией) в коллекции\n",
        "* среднюю длину текста в словах и символах\n",
        "* найдите 5 самых частых существительных в текстах каждого паблика \n",
        "\n",
        "*Рекомендуем использовать pandas для расчета описательных статистик.*"
      ]
    },
    {
      "cell_type": "code",
      "execution_count": 3,
      "metadata": {
        "pycharm": {
          "metadata": false,
          "name": "#%%\n"
        }
      },
      "outputs": [],
      "source": [
        "def lemmatize(entry):\n",
        "    morph \u003d MorphAnalyzer()\n",
        "    punctte \u003d punctuation+\u0027«»—…“”*№§\u0027\n",
        "    words \u003d [word.strip(punctte) for word in entry.lower().split()]\n",
        "    wordslemma \u003d []\n",
        "    wordspos \u003d []\n",
        "    for word in words:\n",
        "        wordslemma.append(morph.parse(word)[0].normal_form)\n",
        "        wordspos.append(str(morph.parse(word)[0].tag.POS))\n",
        "    return \" \".join(wordslemma) + \"§\" + \" \".join(wordspos)\n",
        "\n",
        "    \n",
        "def nostops(entry):\n",
        "    stops \u003d stopwords.words(\u0027russian\u0027) + [\u0027это\u0027, \u0027наш\u0027 , \u0027тыс\u0027, \u0027млн\u0027, \u0027млрд\u0027, \u0027также\u0027,  \u0027т\u0027, \u0027д\u0027]\n",
        "    entry \u003d [x for x in entry.split() if x not in stops]\n",
        "    return \" \".join(entry)\n",
        "\n",
        "def wordcounter(entry):\n",
        "    count \u003d 0\n",
        "    for word in entry.split():\n",
        "        count +\u003d 1\n",
        "    return count\n",
        "    \n",
        "def poscounter (df, partofspeech):\n",
        "    groupedf \u003d df.groupby(\"source\")\n",
        "    finalcount \u003d []\n",
        "    for group in groupedf:\n",
        "        countcounter \u003d []\n",
        "        wordlist \u003d []\n",
        "        poslist \u003d []\n",
        "        counter \u003d []\n",
        "        wordlistunpack \u003d group[1][\u0027lemmatizedtext\u0027].str.split().tolist()\n",
        "        for listing in wordlistunpack:\n",
        "            wordlist.append(\" \".join(listing))\n",
        "        wordlistunpack \u003d []\n",
        "        poslistunpack\u003d group[1][\u0027lemmatizedpos\u0027].str.split().tolist()\n",
        "        for listing in poslistunpack:\n",
        "            poslist.append(\" \".join(listing))\n",
        "        poslistunpack \u003d []\n",
        "        for i, words in enumerate(wordlist):\n",
        "            words \u003d words.split()\n",
        "            poss \u003d poslist[i].split()\n",
        "            wordlistunpack.append([x for i, x in enumerate(words) if poss[i].startswith(partofspeech) and len(x) \u003e\u003d 3])\n",
        "        countcounter.append([\" \".join(listing) for listing in wordlistunpack])\n",
        "        countcounter \u003d [\" \".join(listing) for listing in countcounter]\n",
        "        counter \u003d Counter(countcounter[0].split()) # fix \u0027Counter\u0027 object is not callable\n",
        "        finalcount.append((group[0], counter.most_common(5)))\n",
        "    return finalcount "
      ]
    },
    {
      "cell_type": "code",
      "execution_count": 14,
      "metadata": {
        "pycharm": {
          "metadata": false,
          "name": "#%%\n"
        }
      },
      "outputs": [
        {
          "data": {
            "application/vnd.jupyter.widget-view+json": {
              "model_id": "460a9af7237b47ac951ed23bd6d73312",
              "version_major": 2,
              "version_minor": 0
            },
            "text/plain": [
              "HBox(children\u003d(IntProgress(value\u003d0, max\u003d11526), HTML(value\u003d\u0027\u0027)))"
            ]
          },
          "metadata": {},
          "output_type": "display_data"
        },
        {
          "name": "stdout",
          "output_type": "stream",
          "text": [
            "\n"
          ]
        }
      ],
      "source": [
        "# DO NOT RUN AGAIN!!!\n",
        "df \u003d df.dropna()\n",
        "df[\u0027text\u0027] \u003d df[\u0027text\u0027].str.replace(\"\u003cbr\u003e\", \"\")\n",
        "df[\u0027wordcount\u0027] \u003d df[\u0027text\u0027].apply(wordcounter)\n",
        "df[\u0027symbolcount\u0027] \u003d df[\u0027text\u0027].str.len()\n",
        "df[\u0027lemmatizedtext\u0027] \u003d df[\u0027text\u0027].apply(lemmatize)\n",
        "tempdf \u003d df[\u0027lemmatizedtext\u0027].str.split(\"§\", expand\u003dTrue)\n",
        "df[\u0027lemmatizedtext\u0027] \u003d tempdf.iloc[:,0]\n",
        "df[\u0027lemmatizedpos\u0027] \u003d tempdf.iloc[:,1]\n",
        "tempdf \u003d []\n",
        "#save to file to work faster\n",
        "df.to_csv(\"lemmatizeddf.csv\", sep\u003d\"\\t\", encoding\u003d\"utf-8\", index\u003dFalse)"
      ]
    },
    {
      "cell_type": "code",
      "execution_count": 4,
      "metadata": {
        "pycharm": {
          "metadata": false,
          "name": "#%%\n"
        }
      },
      "outputs": [
        {
          "name": "stdout",
          "text": [
            "количество текстов \u003d 11526\nколичество классов \u003d 4\nколичество уникальных слов без лемматизации \u003d 134704\nколичество уникальных слов с лемматизацией \u003d 48291\nсреднюю длину текста в словах \u003d 84.09682457053619\nсреднюю длину текста в символах \u003d 667.2919486378622\n5 самых частых существительных в текстах каждого паблик: \n[(\u0027mchsgov\u0027, [(\u0027мчс\u0027, 3446), (\u0027россия\u0027, 1578), (\u0027мчсроссия\u0027, 1217), (\u0027спасатель\u0027, 565), (\u0027год\u0027, 417)]), (\u0027mil\u0027, [(\u0027военный\u0027, 1287), (\u0027минобороны\u0027, 1274), (\u0027россия\u0027, 1177), (\u0027год\u0027, 1004), (\u0027учение\u0027, 846)]), (\u0027mospolice\u0027, [(\u0027полиция\u0027, 5360), (\u0027год\u0027, 4541), (\u0027москва\u0027, 4015), (\u0027россия\u0027, 3840), (\u0027мвд\u0027, 3601)]), (\u0027russianpost\u0027, [(\u0027почта\u0027, 2801), (\u0027россия\u0027, 2442), (\u0027год\u0027, 1725), (\u0027письмо\u0027, 1280), (\u0027отделение\u0027, 1276)])]\n"
          ],
          "output_type": "stream"
        }
      ],
      "source": "df \u003d pd.read_csv(\"lemmatizeddf.csv\", header\u003d0, sep\u003d\"\\t\")\nrows \u003d len(df.index)\ndomains \u003d len(df.groupby(\u0027source\u0027))\nwordcount \u003d len(Counter(\" \".join(df[\u0027text\u0027].astype(str)).split(\" \")).items())\nlemmacount \u003d len(Counter(\" \".join(df[\u0027lemmatizedtext\u0027]).split(\" \")).items())\nmeanwords \u003d df[\u0027wordcount\u0027].mean()\nmeansymbols \u003d df[\u0027symbolcount\u0027].mean()\nadjcount_by_group \u003d poscounter(df, \"NOUN\")\n\nprint(\"количество текстов \u003d \" + str(rows) + \"\\n\" + \"количество классов \u003d \" + str(domains) + \"\\n\" + \"количество уникальных слов без лемматизации \u003d \" + str(wordcount) + \"\\n\" + \"количество уникальных слов с лемматизацией \u003d \" + str(lemmacount) + \"\\n\" + \"среднюю длину текста в словах \u003d \" + str(meanwords) + \"\\n\" + \"среднюю длину текста в символах \u003d \" + str(meansymbols) + \"\\n\" + \"5 самых частых существительных в текстах каждого паблик: \")\nprint(adjcount_by_group)\n        "
    },
    {
      "cell_type": "markdown",
      "metadata": {
        "colab_type": "text",
        "id": "fTJPlulvQSqQ",
        "pycharm": {}
      },
      "source": [
        "Разделите коллекцию текстов на обучающую и тестовую части."
      ]
    },
    {
      "cell_type": "code",
      "execution_count": 5,
      "metadata": {
        "pycharm": {
          "metadata": false,
          "name": "#%%\n"
        }
      },
      "outputs": [],
      "source": [
        "df \u003d shuffle(df)\n",
        "train, test \u003d train_test_split(df, test_size\u003d0.2)"
      ]
    },
    {
      "cell_type": "markdown",
      "metadata": {
        "colab_type": "text",
        "id": "9yCVYfbpNhXd",
        "pycharm": {}
      },
      "source": [
        " ## Задание 2 [2 балла]. Классификация по правилам\n",
        " \n",
        " * Разработайте несколько правил вида \"Если встречается слово $w$, то текст относится к паблику $c$\"\n",
        " * Посчитайте, какую точность, полноту, $f$-меру и $accuracy$ вы получаете при классификации по правилам\n",
        " * Получилось ли у вас придумать правило, которое никогда не ошибается?"
      ]
    },
    {
      "cell_type": "code",
      "execution_count": 22,
      "metadata": {
        "pycharm": {
          "metadata": false,
          "name": "#%%\n"
        }
      },
      "outputs": [
        {
          "name": "stdout",
          "output_type": "stream",
          "text": [
            "              precision    recall  f1-score   support\n",
            "\n",
            "     mchsgov       0.69      0.93      0.79       607\n",
            "         mil       0.93      0.64      0.76       578\n",
            "   mospolice       0.96      0.93      0.94       603\n",
            " russianpost       0.92      0.90      0.91       518\n",
            "\n",
            "   micro avg       0.85      0.85      0.85      2306\n",
            "   macro avg       0.87      0.85      0.85      2306\n",
            "weighted avg       0.87      0.85      0.85      2306\n",
            "\n"
          ]
        }
      ],
      "source": [
        "# \n",
        "\n",
        "def kwclassifier (entries):\n",
        "    keywordslist \u003d [[\u0027мчс\u0027,\u0027мчсроссия\u0027, \u0027спасатель\u0027, \u0027пожар\u0027, \u0027пожарный\u0027, \u0027спасательный\u0027, \u0027половодье\u0027, \u0027спасли\u0027, \u0027взрыв\u0027], [\u0027военный\u0027, \u0027минобороны\u0027,\u0027боевой\u0027, \u0027обороны\u0027, \u0027корабли\u0027, \u0027война\u0027, \u0027танк\u0027, \u0027армия\u0027, \u0027авиация\u0027,], [\u0027полиция\u0027, \u0027мвд\u0027, \u0027кража\u0027, \u0027задержали\u0027, \u0027коррупции\u0027, \u0027полицейский\u0027, \u0027наркотики\u0027, \u0027грабеж\u0027, \u0027омвд\u0027], [\u0027почта\u0027, \u0027письмо\u0027, \u0027открытка\u0027, \u0027марка\u0027, \u0027филателисты\u0027, \u0027писатель\u0027, \u0027подписку\u0027, \u0027переписке\u0027, \u0027почтовый\u0027]]\n",
        "    classdict \u003d { 0 : \"mchsgov\", 1 : \"mil\", 2 : \"mospolice\", 3 : \"russianpost\"}\n",
        "    classlist \u003d []\n",
        "    for entry in entries:\n",
        "        entry \u003d nostops(entry).split()\n",
        "        counter \u003d 0\n",
        "        maxcounter \u003d 0\n",
        "        index \u003d 0\n",
        "        for i, list in enumerate(keywordslist):\n",
        "            for word in entry:\n",
        "                if word in list:\n",
        "                    counter +\u003d 1\n",
        "            if counter \u003e maxcounter:\n",
        "                maxcounter \u003d counter\n",
        "                index \u003d i\n",
        "        classlist.append(classdict[index])\n",
        "    return classlist\n",
        "\n",
        "classes \u003d kwclassifier(test[\u0027lemmatizedtext\u0027])\n",
        "trueclasses \u003d test[\u0027source\u0027].tolist()\n",
        "print(classification_report(trueclasses, classes))"
      ]
    },
    {
      "cell_type": "markdown",
      "metadata": {
        "pycharm": {
          "metadata": false,
          "name": "#%% md\n"
        }
      },
      "source": [
        "не лемматизировать слова это самая большая проблема классификации по правилам, а даже совпадения структуры текста (в mospolice - у всех текстов hastags mчс, полиция, которые помогают получить хорошие резултаты. Резултаты точности не плохие (кроме mchsgov), но не достаточно хорошие."
      ]
    },
    {
      "cell_type": "markdown",
      "metadata": {
        "colab_type": "text",
        "id": "22tJKQnaOjie",
        "pycharm": {}
      },
      "source": [
        "## Задание 3 [4 балла]. Baseline\n",
        "Используйте стандартный ```sklearn.pipeline``` для классификации текстов: \n",
        "* векторизация \n",
        "* $tf-idf$ взвешивание \n",
        "* ваш любимый метод классификации.\n",
        "\n",
        "\n",
        "Оцените результаты классификации по стандартным мерам качества и проведите анализ ошибок. Для этого рекомендуем визуализировать матрицу ошибок (confusion matrix). "
      ]
    },
    {
      "cell_type": "code",
      "execution_count": 7,
      "metadata": {
        "pycharm": {
          "metadata": false,
          "name": "#%%\n"
        }
      },
      "outputs": [
        {
          "name": "stdout",
          "output_type": "stream",
          "text": [
            "              precision    recall  f1-score   support\n",
            "\n",
            "     mchsgov       0.99      0.93      0.96       574\n",
            "         mil       0.98      0.97      0.98       612\n",
            "   mospolice       0.96      0.99      0.98       595\n",
            " russianpost       0.94      0.96      0.95       525\n",
            "\n",
            "   micro avg       0.97      0.97      0.97      2306\n",
            "   macro avg       0.97      0.97      0.97      2306\n",
            "weighted avg       0.97      0.97      0.97      2306\n",
            "\n"
          ]
        },
        {
          "data": {
            "image/png": "[encoded data removed]",
            "text/plain": [
              "\u003cFigure size 1080x1080 with 1 Axes\u003e"
            ]
          },
          "metadata": {
            "needs_background": "light"
          },
          "output_type": "display_data"
        }
      ],
      "source": [
        "vectorizer \u003d CountVectorizer(ngram_range\u003d(1,1), analyzer\u003d\"word\")\n",
        "transformer \u003d TfidfTransformer()\n",
        "classifier \u003d MultinomialNB()\n",
        "\n",
        "clf \u003d Pipeline([\n",
        "    (\u0027vect\u0027, vectorizer),\n",
        "    (\u0027tran\u0027, transformer),\n",
        "    (\u0027clf\u0027, classifier),\n",
        "])\n",
        "clf.fit(train[\u0027text\u0027], train[\u0027source\u0027])\n",
        "predictions \u003d clf.predict(test[\u0027text\u0027])\n",
        "print(classification_report(test[\u0027source\u0027], predictions))\n",
        "\n",
        "m \u003d confusion_matrix(test[\u0027source\u0027], predictions)\n",
        "\n",
        "labels \u003d clf.classes_\n",
        "plt.figure(figsize \u003d (15,15))\n",
        "sns.heatmap(data\u003dm, annot\u003dTrue, fmt\u003d\"d\", cbar\u003dFalse, xticklabels\u003dlabels, yticklabels\u003dlabels, cmap\u003d\"PuBuGn\")\n",
        "plt.title(\"Confusion matrix\")\n",
        "plt.show()"
      ]
    },
    {
      "cell_type": "markdown",
      "metadata": {
        "pycharm": {
          "metadata": false
        }
      },
      "source": [
        "## Задание 4 [2 балла]. Снижение размерности\n",
        "Добавьте в ваш ```sklearn.pipeline```  методы снижения размерности:  PCA / LSI / LSA / LDA / другое. Какие методы классификации разумно использовать после снижения размерности? Как изменились результаты классификации после добавления нового шага?"
      ]
    },
    {
      "cell_type": "code",
      "execution_count": 9,
      "metadata": {
        "pycharm": {
          "metadata": false,
          "name": "#%%\n"
        }
      },
      "outputs": [
        {
          "name": "stderr",
          "output_type": "stream",
          "text": [
            "c:\\users\\loren\\appdata\\local\\programs\\python\\python37\\lib\\site-packages\\sklearn\\preprocessing\\_function_transformer.py:98: FutureWarning: The default validate\u003dTrue will be replaced by validate\u003dFalse in 0.22.\n",
            "  \"validate\u003dFalse in 0.22.\", FutureWarning)\n",
            "c:\\users\\loren\\appdata\\local\\programs\\python\\python37\\lib\\site-packages\\sklearn\\discriminant_analysis.py:388: UserWarning: Variables are collinear.\n",
            "  warnings.warn(\"Variables are collinear.\")\n",
            "c:\\users\\loren\\appdata\\local\\programs\\python\\python37\\lib\\site-packages\\sklearn\\preprocessing\\_function_transformer.py:98: FutureWarning: The default validate\u003dTrue will be replaced by validate\u003dFalse in 0.22.\n",
            "  \"validate\u003dFalse in 0.22.\", FutureWarning)\n"
          ]
        },
        {
          "name": "stdout",
          "output_type": "stream",
          "text": [
            "              precision    recall  f1-score   support\n",
            "\n",
            "     mchsgov       0.86      0.97      0.91       574\n",
            "         mil       0.99      0.91      0.95       612\n",
            "   mospolice       0.98      0.94      0.96       595\n",
            " russianpost       0.92      0.92      0.92       525\n",
            "\n",
            "   micro avg       0.94      0.94      0.94      2306\n",
            "   macro avg       0.94      0.94      0.94      2306\n",
            "weighted avg       0.94      0.94      0.94      2306\n",
            "\n"
          ]
        }
      ],
      "source": [
        "dense \u003d FunctionTransformer(lambda x: x.todense(), accept_sparse\u003dTrue)\n",
        "classifier \u003d LinearDiscriminantAnalysis()\n",
        "clf \u003d Pipeline([\n",
        "    (\u0027vect\u0027, vectorizer),\n",
        "    (\u0027tran\u0027, transformer),\n",
        "    (\u0027dense\u0027, dense),\n",
        "    (\u0027clf\u0027, classifier),\n",
        "])\n",
        "clf.fit(train[\u0027text\u0027], train[\u0027source\u0027])\n",
        "predictions \u003d clf.predict(test[\u0027text\u0027])\n",
        "print(classification_report(test[\u0027source\u0027], predictions))"
      ]
    },
    {
      "cell_type": "code",
      "execution_count": 10,
      "metadata": {
        "pycharm": {
          "metadata": false,
          "name": "#%%\n"
        }
      },
      "outputs": [
        {
          "data": {
            "image/png": "[encoded data removed]",
            "text/plain": [
              "\u003cFigure size 1080x1080 with 1 Axes\u003e"
            ]
          },
          "metadata": {
            "needs_background": "light"
          },
          "output_type": "display_data"
        }
      ],
      "source": [
        "m \u003d confusion_matrix(test[\u0027source\u0027], predictions)\n",
        "\n",
        "labels \u003d clf.classes_\n",
        "plt.figure(figsize \u003d (15,15))\n",
        "sns.heatmap(data\u003dm, annot\u003dTrue, fmt\u003d\"d\", cbar\u003dFalse, xticklabels\u003dlabels, yticklabels\u003dlabels, cmap\u003d\"PuBuGn\")\n",
        "plt.title(\"Confusion matrix\")\n",
        "plt.show()"
      ]
    },
    {
      "cell_type": "markdown",
      "metadata": {
        "colab_type": "text",
        "id": "7vVPaaVwPVwg",
        "pycharm": {}
      },
      "source": [
        "## Задание 5 [2 балла]. Лемматизация\n",
        "Посмотрите, как влияет лемматизация на качество классификации. Как изменится качество классификации, если вы используете ```CountVectorizer``` на словах или $n$-граммах на лемматизированных "
      ]
    },
    {
      "cell_type": "code",
      "execution_count": 40,
      "metadata": {
        "pycharm": {
          "metadata": false,
          "name": "#%%\n"
        }
      },
      "outputs": [
        {
          "name": "stdout",
          "output_type": "stream",
          "text": [
            "[\u0027mil\u0027 \u0027mil\u0027 \u0027russianpost\u0027 ... \u0027mchsgov\u0027 \u0027mil\u0027 \u0027mospolice\u0027]\n",
            "              precision    recall  f1-score   support\n",
            "\n",
            "     mchsgov       0.91      0.95      0.93       574\n",
            "         mil       0.99      0.93      0.96       612\n",
            "   mospolice       0.98      0.96      0.97       595\n",
            " russianpost       0.91      0.95      0.93       525\n",
            "\n",
            "   micro avg       0.95      0.95      0.95      2306\n",
            "   macro avg       0.95      0.95      0.95      2306\n",
            "weighted avg       0.95      0.95      0.95      2306\n",
            "\n"
          ]
        },
        {
          "data": {
            "image/png": "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\u003d\u003d\n",
            "text/plain": [
              "\u003cFigure size 1080x1080 with 1 Axes\u003e"
            ]
          },
          "metadata": {
            "needs_background": "light"
          },
          "output_type": "display_data"
        }
      ],
      "source": [
        "vectorizer \u003d CountVectorizer(ngram_range\u003d(1,1), analyzer\u003d\"word\")\n",
        "transformer \u003d TfidfTransformer()\n",
        "classifier \u003d MultinomialNB()\n",
        "\n",
        "clf \u003d Pipeline([\n",
        "    (\u0027vect\u0027, vectorizer),\n",
        "    (\u0027tran\u0027, transformer),\n",
        "    (\u0027clf\u0027, classifier),\n",
        "])\n",
        "clf.fit(train[\u0027lemmatizedtext\u0027], train[\u0027source\u0027])\n",
        "predictions \u003d clf.predict(test[\u0027lemmatizedtext\u0027])\n",
        "print(classification_report(test[\u0027source\u0027], predictions))\n",
        "\n",
        "m \u003d confusion_matrix(test[\u0027source\u0027], predictions)\n",
        "\n",
        "labels \u003d clf.classes_\n",
        "plt.figure(figsize \u003d (15,15))\n",
        "sns.heatmap(data\u003dm, annot\u003dTrue, fmt\u003d\"d\", cbar\u003dFalse, xticklabels\u003dlabels, yticklabels\u003dlabels, cmap\u003d\"PuBuGn\")\n",
        "plt.title(\"Confusion matrix\")\n",
        "plt.show()"
      ]
    },
    {
      "cell_type": "markdown",
      "metadata": {
        "colab_type": "text",
        "id": "hj7hWdtcP8L2",
        "pycharm": {}
      },
      "source": "## Задание 6 [4 балла]. Модель скрытых тем\nПостройте и визуализируйте модель скрытых тем (LSI или LDA) по данной коллекции текстов. Нужно ли здесь использовать разделение на тестовую и обучающую части? Как модель скрытых тем может помочь в решении задачи классификации?"
    },
    {
      "cell_type": "code",
      "execution_count": 10,
      "outputs": [],
      "source": "def build_lda(X_train, y_train, X_test):\n    vec \u003d CountVectorizer()\n    # sc \u003d StandardScaler()\n    X_train \u003d vec.fit_transform(X_train)\n    X_test \u003d vec.transform(X_test)\n    feature_names \u003d vec.get_feature_names()\n    lda \u003d LatentDirichletAllocation(n_components \u003d 4, learning_method\u003d\u0027online\u0027, random_state\u003d0)\n    model \u003d lda.fit(X_train)\n    X_train \u003d lda.fit_transform(X_train, y_train)\n    X_test \u003d lda.transform(X_test)\n    classifier \u003d LogisticRegression()\n    classifier.fit(X_train, y_train)\n    y_pred \u003d classifier.predict(X_test)\n    return model, feature_names, y_pred",
      "metadata": {
        "pycharm": {
          "metadata": false,
          "name": "#%%\n"
        }
      }
    },
    {
      "cell_type": "markdown",
      "source": "Let\u0027s try to transform the train matrix on the test set and see if it works",
      "metadata": {
        "pycharm": {
          "metadata": false,
          "name": "#%% md\n"
        }
      }
    },
    {
      "cell_type": "code",
      "execution_count": 18,
      "metadata": {
        "pycharm": {
          "metadata": false,
          "name": "#%%\n"
        }
      },
      "outputs": [
        {
          "name": "stdout",
          "text": [
            "Topic 0:\n[\u0027почтовый\u0027, \u0027почта\u0027, \u0027который\u0027, \u0027письмо\u0027, \u0027свой\u0027, \u0027доставка\u0027, \u0027отделение\u0027, \u0027весь\u0027, \u0027отправление\u0027, \u0027мочь\u0027]\nTopic 1:\n[\u0027военный\u0027, \u0027минобороны\u0027, \u0027российский\u0027, \u0027учение\u0027, \u0027оборона\u0027, \u0027сила\u0027, \u0027корабль\u0027, \u0027год\u0027, \u0027россия\u0027, \u0027комплекс\u0027]\nTopic 2:\n[\u0027полиция\u0027, \u0027мвд\u0027, \u0027год\u0027, \u0027москва\u0027, \u0027россия\u0027, \u0027сотрудник\u0027, \u0027петровка38\u0027, \u0027гу\u0027, \u0027задержать\u0027, \u0027служба\u0027]\nTopic 3:\n[\u0027россия\u0027, \u0027мчс\u0027, \u0027год\u0027, \u0027ru\u0027, \u0027www\u0027, \u0027почтовый\u0027, \u0027http\u0027, \u0027item\u0027, \u0027почта\u0027, \u0027news\u0027]\n              precision    recall  f1-score   support\n\n     mchsgov       0.66      0.76      0.71       615\n         mil       0.94      0.92      0.93       607\n   mospolice       0.94      0.97      0.96       563\n russianpost       0.70      0.57      0.63       521\n\n   micro avg       0.81      0.81      0.81      2306\n   macro avg       0.81      0.81      0.81      2306\nweighted avg       0.81      0.81      0.81      2306\n\n"
          ],
          "output_type": "stream"
        },
        {
          "name": "stderr",
          "text": [
            "c:\\users\\loren\\appdata\\local\\programs\\python\\python37\\lib\\site-packages\\sklearn\\linear_model\\logistic.py:433: FutureWarning: Default solver will be changed to \u0027lbfgs\u0027 in 0.22. Specify a solver to silence this warning.\n  FutureWarning)\nc:\\users\\loren\\appdata\\local\\programs\\python\\python37\\lib\\site-packages\\sklearn\\linear_model\\logistic.py:460: FutureWarning: Default multi_class will be changed to \u0027auto\u0027 in 0.22. Specify the multi_class option to silence this warning.\n  \"this warning.\", FutureWarning)\n"
          ],
          "output_type": "stream"
        }
      ],
      "source": "def display_word_distribution(model, feature_names, n_word):\n    for topic_idx, topic in enumerate(model.components_):\n        print(\"Topic %d:\" % (topic_idx))\n        words \u003d []\n        for i in topic.argsort()[:-n_word - 1:-1]:\n            words.append(feature_names[i])\n        print(words)\n\ntraincorpus \u003d [nostops(x) for x in train[\u0027lemmatizedtext\u0027]]\nlda_model, feature_names, predictions \u003d build_lda(traincorpus, train[\u0027source\u0027], test[\u0027lemmatizedtext\u0027])\ndisplay_word_distribution(\n    model\u003dlda_model, feature_names\u003dfeature_names,\n    n_word\u003d10)\n    \ncr \u003d classification_report(test[\u0027source\u0027], predictions)\nprint(cr)"
    },
    {
      "cell_type": "code",
      "execution_count": 23,
      "outputs": [
        {
          "data": {
            "text/plain": "\u003cFigure size 1080x1080 with 1 Axes\u003e",
            "image/png": "[encoded data removed]"
          },
          "metadata": {
            "needs_background": "light"
          },
          "output_type": "display_data"
        }
      ],
      "source": "lines \u003d cr.split(\u0027\\n\u0027)\nclasses \u003d []\nfor line in lines[2 : (len(lines) - 5)]:\n    t \u003d line.split()\n    classes.append(t[0])\n    \nm \u003d confusion_matrix(test[\u0027source\u0027], predictions)\n\nlabels \u003d classes\nplt.figure(figsize \u003d (15,15))\nsns.heatmap(data\u003dm, annot\u003dTrue, fmt\u003d\"d\", cbar\u003dFalse, xticklabels\u003dlabels, yticklabels\u003dlabels, cmap\u003d\"PuBuGn\")\nplt.title(\"Confusion matrix\")\nplt.show()",
      "metadata": {
        "pycharm": {
          "metadata": false,
          "name": "#%%\n"
        }
      }
    },
    {
      "cell_type": "markdown",
      "metadata": {
        "colab_type": "text",
        "id": "cdakRHahQp-l",
        "pycharm": {}
      },
      "source": "Let\u0027s repeat the experiment only on the train set, we do not see big differences."
    },
    {
      "cell_type": "code",
      "execution_count": 24,
      "outputs": [
        {
          "name": "stderr",
          "text": [
            "c:\\users\\loren\\appdata\\local\\programs\\python\\python37\\lib\\site-packages\\sklearn\\linear_model\\logistic.py:433: FutureWarning: Default solver will be changed to \u0027lbfgs\u0027 in 0.22. Specify a solver to silence this warning.\n  FutureWarning)\nc:\\users\\loren\\appdata\\local\\programs\\python\\python37\\lib\\site-packages\\sklearn\\linear_model\\logistic.py:460: FutureWarning: Default multi_class will be changed to \u0027auto\u0027 in 0.22. Specify the multi_class option to silence this warning.\n  \"this warning.\", FutureWarning)\n"
          ],
          "output_type": "stream"
        },
        {
          "name": "stdout",
          "text": [
            "Topic 0:\n[\u0027почтовый\u0027, \u0027почта\u0027, \u0027который\u0027, \u0027письмо\u0027, \u0027свой\u0027, \u0027доставка\u0027, \u0027отделение\u0027, \u0027весь\u0027, \u0027отправление\u0027, \u0027мочь\u0027]\nTopic 1:\n[\u0027военный\u0027, \u0027минобороны\u0027, \u0027российский\u0027, \u0027учение\u0027, \u0027оборона\u0027, \u0027сила\u0027, \u0027корабль\u0027, \u0027год\u0027, \u0027россия\u0027, \u0027комплекс\u0027]\nTopic 2:\n[\u0027полиция\u0027, \u0027мвд\u0027, \u0027год\u0027, \u0027москва\u0027, \u0027россия\u0027, \u0027сотрудник\u0027, \u0027петровка38\u0027, \u0027гу\u0027, \u0027задержать\u0027, \u0027служба\u0027]\nTopic 3:\n[\u0027россия\u0027, \u0027мчс\u0027, \u0027год\u0027, \u0027ru\u0027, \u0027www\u0027, \u0027почтовый\u0027, \u0027http\u0027, \u0027item\u0027, \u0027почта\u0027, \u0027news\u0027]\n              precision    recall  f1-score   support\n\n     mchsgov       0.65      0.75      0.70      2409\n         mil       0.95      0.92      0.94      2410\n   mospolice       0.94      0.96      0.95      2291\n russianpost       0.68      0.56      0.62      2110\n\n   micro avg       0.81      0.81      0.81      9220\n   macro avg       0.80      0.80      0.80      9220\nweighted avg       0.81      0.81      0.80      9220\n\n"
          ],
          "output_type": "stream"
        },
        {
          "data": {
            "text/plain": "\u003cFigure size 1080x1080 with 1 Axes\u003e",
            "image/png": "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\u003d\u003d\n"
          },
          "metadata": {
            "needs_background": "light"
          },
          "output_type": "display_data"
        }
      ],
      "source": "def display_word_distribution(model, feature_names, n_word):\n    for topic_idx, topic in enumerate(model.components_):\n        print(\"Topic %d:\" % (topic_idx))\n        words \u003d []\n        for i in topic.argsort()[:-n_word - 1:-1]:\n            words.append(feature_names[i])\n        print(words)\n\ntraincorpus \u003d [nostops(x) for x in train[\u0027lemmatizedtext\u0027]]\nlda_model, feature_names, predictions \u003d build_lda(traincorpus, train[\u0027source\u0027], train[\u0027lemmatizedtext\u0027])\ndisplay_word_distribution(\n    model\u003dlda_model, feature_names\u003dfeature_names,\n    n_word\u003d10)\n    \ncr \u003d classification_report(train[\u0027source\u0027], predictions)\nprint(cr)\n\nlines \u003d cr.split(\u0027\\n\u0027)\nclasses \u003d []\nfor line in lines[2 : (len(lines) - 5)]:\n    t \u003d line.split()\n    classes.append(t[0])\n    \nm \u003d confusion_matrix(train[\u0027source\u0027], predictions)\n\nlabels \u003d classes\nplt.figure(figsize \u003d (15,15))\nsns.heatmap(data\u003dm, annot\u003dTrue, fmt\u003d\"d\", cbar\u003dFalse, xticklabels\u003dlabels, yticklabels\u003dlabels, cmap\u003d\"PuBuGn\")\nplt.title(\"Confusion matrix\")\nplt.show()",
      "metadata": {
        "pycharm": {
          "metadata": false,
          "name": "#%%\n"
        }
      }
    },
    {
      "cell_type": "markdown",
      "source": "## Задание 7 [4 балла]. Continious bag of words\nДля baseline решения мы использовали обычное представление текста в виде мешка слов. Попробуйте использовать другие модели представления текста – например, в виде непрерывного мешка слов, то есть, в виде набора эмбеддингов. Для того, чтобы получить вектор текста попробуйте:\n* усреднить все эмбеддинги слов, входящих в этот текст\n* усреднить все эмбеддинги слов, входящих в этот текст с $tf-idf$ весами\n* использовать любую модель эмбеддинга документа.\n\nИспользуйте любую модель эмбеддингов по вашему вкусу. \n\nОцените результаты классификации по стандартным мерам качества и проведите анализ ошибок. Для этого рекомендуем визуализировать матрицу ошибок (confusion matrix).",
      "metadata": {
        "pycharm": {
          "metadata": false,
          "name": "#%% md\n"
        }
      }
    },
    {
      "cell_type": "markdown",
      "source": "I used GloVe embeddings. I trained a corpus (our train) to get the embeddings and then embedded our test set. To get our sentence embeddings I obtained the mean of every component of the vectors on the sentence space. We get then a single embedding with the same number of components for every sentence, and we can feed it to a classifier",
      "metadata": {
        "pycharm": {
          "metadata": false,
          "name": "#%% md\n"
        }
      }
    },
    {
      "cell_type": "code",
      "execution_count": 15,
      "metadata": {
        "pycharm": {
          "metadata": false,
          "name": "#%%\n"
        }
      },
      "outputs": [
        {
          "data": {
            "text/plain": [
              "5892130"
            ]
          },
          "execution_count": 15,
          "metadata": {},
          "output_type": "execute_result"
        }
      ],
      "source": "sentlist \u003d []\nfor text in train[\u0027lemmatizedtext\u0027]:\n    sentlist.append(text)\nopen(\"glovemodel.txt\", \"w+\", encoding\u003d\"utf-8\").write(\"\\n\".join(sentlist))"
    },
    {
      "cell_type": "markdown",
      "metadata": {
        "pycharm": {
          "metadata": false,
          "name": "#%% md\n"
        }
      },
      "source": [
        "linux code here: \u003cbr\u003e\n",
        "./vocab_count -min-count 2 \u003c glovemodel.txt \u003e glovevocab.txt \u003cbr\u003e\n",
        "\u003cbr\u003e\n",
        "BUILDING VOCABULARY\n",
        "Processed 776581 tokens.\n",
        "Counted 42584 unique words.\n",
        "Truncating vocabulary at min count 2.\n",
        "Using vocabulary of size 18907. \u003cbr\u003e\n",
        "\u003cbr\u003e\n",
        "./cooccur -window-size 10 -vocab-file glovevocab.txt -memory 8.0\n",
        " \u003c glovemodel.txt \u003e glovecoocc.bin \u003cbr\u003e\n",
        "\u003cbr\u003e\n",
        "COUNTING COOCCURRENCES\n",
        "window size: 10\n",
        "context: symmetric\n",
        "max product: 26461224\n",
        "overflow length: 76056712\n",
        "Reading vocab from file \"glovevocab.txt\"...loaded 18907 words.\n",
        "Building lookup table...table contains 95332455 elements.\n",
        "Processed 776580 tokens. \n",
        "Writing cooccurrences to disk........2 files in total.\n",
        "Merging cooccurrence files: processed 4274521 lines. \u003cbr\u003e\n",
        "\u003cbr\u003e\n",
        "./shuffle -memory 8.0 \u003c glovecoocc.bin \u003e glovecoocc.shuf.bin \u003cbr\u003e\n",
        "\u003cbr\u003e\n",
        "SHUFFLING COOCCURRENCES\n",
        "array size: 510027366\n",
        "Shuffling by chunks: processed 4274521 lines.\n",
        "Wrote 1 temporary file(s).\n",
        "Merging temp files: processed 4274521 lines. \u003cbr\u003e\n",
        "\u003cbr\u003e\n",
        "./glove -input-file glovecoocc.shuf.bin -vocab-file glovevocab. \u003cbr\u003e\n",
        "\u003cbr\u003e\n",
        "xt -binary 2\n",
        "TRAINING MODEL\n",
        "Read 4274521 lines.\n",
        "Initializing parameters...done.\n",
        "vector size: 50\n",
        "vocab size: 18907\n",
        "x_max: 100.000000\n",
        "alpha: 0.750000\n",
        "iter: 001, cost: 0.023900\n",
        "iter: 002, cost: 0.019624\n",
        "...\n",
        "iter: 024, cost: 0.007080\n",
        "iter: 025, cost: 0.006960"
      ]
    },
    {
      "cell_type": "code",
      "execution_count": 6,
      "metadata": {
        "pycharm": {
          "metadata": false,
          "name": "#%%\n"
        }
      },
      "outputs": [
        {
          "name": "stdout",
          "output_type": "stream",
          "text": [
            "Loading Glove Model\n",
            "Done. 18908  words loaded!\n"
          ]
        }
      ],
      "source": [
        "def loadGloveModel(gloveFile):\n",
        "    print(\"Loading Glove Model\")\n",
        "    f \u003d open(gloveFile, \u0027r\u0027, encoding\u003d\"utf-8\")\n",
        "    model \u003d {}\n",
        "    for line in f:\n",
        "        splitLine \u003d line.split()\n",
        "        word \u003d splitLine[0]\n",
        "        embedding \u003d np.array([float(val) for val in splitLine[1:]])\n",
        "        model[word] \u003d embedding\n",
        "    print(\"Done.\",len(model),\" words loaded!\")\n",
        "    return model\n",
        "\n",
        "def vectorcalculator(test_sentences, loaded_model, df):\n",
        "    finallist \u003d np.zeros((df.shape[0], 50))\n",
        "    for i, sentence in enumerate(test_sentences):\n",
        "        sentencelist \u003d []    \n",
        "        for word in sentence.split():\n",
        "            try:\n",
        "                sentencelist.append(loaded_model[word])\n",
        "            except:\n",
        "                continue\n",
        "        sentencelist \u003d np.array(sentencelist)\n",
        "        sentencelist \u003d np.mean(sentencelist, axis \u003d 0)\n",
        "        if sentencelist.shape !\u003d (50,):\n",
        "            sentencelist \u003d np.zeros(50)\n",
        "        finallist[i] \u003d sentencelist\n",
        "    return finallist\n",
        "\n",
        "glovemodel \u003d loadGloveModel(r\"E:\\Lorenzo Tosi\\OneDrive - НИУ Высшая школа экономики\\Documenti\\Program\\ML-for-compling\\vectors.txt\")\n"
      ]
    },
    {
      "cell_type": "code",
      "execution_count": 78,
      "metadata": {
        "pycharm": {
          "metadata": false,
          "name": "#%%\n"
        }
      },
      "outputs": [
        {
          "name": "stderr",
          "output_type": "stream",
          "text": [
            "c:\\users\\lorenzo tosi\\appdata\\local\\programs\\python\\python37\\lib\\site-packages\\numpy\\core\\fromnumeric.py:3118: RuntimeWarning: Mean of empty slice.\n",
            "  out\u003dout, **kwargs)\n",
            "c:\\users\\lorenzo tosi\\appdata\\local\\programs\\python\\python37\\lib\\site-packages\\numpy\\core\\_methods.py:85: RuntimeWarning: invalid value encountered in double_scalars\n",
            "  ret \u003d ret.dtype.type(ret / rcount)\n"
          ]
        }
      ],
      "source": [
        "docemb \u003d vectorcalculator(test[\u0027lemmatizedtext\u0027].apply(nostops), glovemodel, test)\n",
        "pca \u003d PCA(n_components\u003d10, random_state\u003d10)\n",
        "tsne \u003d TSNE(random_state\u003d10, init\u003d\"pca\")\n",
        "clf \u003d Pipeline([\n",
        "(\u0027pca\u0027, pca),\n",
        "(\u0027tsne\u0027, tsne),])\n",
        "KM \u003d KMeans(n_clusters \u003d 4)\n",
        "predictions \u003d KM.fit_predict(clf.fit_transform(docemb, test[\u0027source\u0027]))"
      ]
    },
    {
      "cell_type": "code",
      "execution_count": 79,
      "metadata": {
        "pycharm": {
          "metadata": false,
          "name": "#%%\n"
        }
      },
      "outputs": [
        {
          "name": "stderr",
          "output_type": "stream",
          "text": [
            "c:\\users\\lorenzo tosi\\appdata\\local\\programs\\python\\python37\\lib\\site-packages\\ipykernel_launcher.py:1: SettingWithCopyWarning: \n",
            "A value is trying to be set on a copy of a slice from a DataFrame.\n",
            "Try using .loc[row_indexer,col_indexer] \u003d value instead\n",
            "\n",
            "See the caveats in the documentation: http://pandas.pydata.org/pandas-docs/stable/indexing.html#indexing-view-versus-copy\n",
            "  \"\"\"Entry point for launching an IPython kernel.\n"
          ]
        },
        {
          "name": "stdout",
          "output_type": "stream",
          "text": [
            "source       predictions\n",
            "mchsgov      3              540\n",
            "             2               38\n",
            "             1               26\n",
            "             0               13\n",
            "mil          1              583\n",
            "             2               10\n",
            "             3               10\n",
            "             0                1\n",
            "mospolice    0              543\n",
            "             1                8\n",
            "             3                4\n",
            "             2                3\n",
            "russianpost  2              482\n",
            "             0               25\n",
            "             1               18\n",
            "             3                2\n",
            "Name: predictions, dtype: int64\n"
          ]
        }
      ],
      "source": [
        "test[\u0027predictions\u0027] \u003d predictions\n",
        "print(test.groupby(\u0027source\u0027)[\u0027predictions\u0027].value_counts())"
      ]
    },
    {
      "cell_type": "code",
      "execution_count": 87,
      "metadata": {
        "pycharm": {
          "metadata": false,
          "name": "#%%\n"
        }
      },
      "outputs": [
        {
          "name": "stderr",
          "output_type": "stream",
          "text": [
            "c:\\users\\lorenzo tosi\\appdata\\local\\programs\\python\\python37\\lib\\site-packages\\ipykernel_launcher.py:7: SettingWithCopyWarning: \n",
            "A value is trying to be set on a copy of a slice from a DataFrame.\n",
            "Try using .loc[row_indexer,col_indexer] \u003d value instead\n",
            "\n",
            "See the caveats in the documentation: http://pandas.pydata.org/pandas-docs/stable/indexing.html#indexing-view-versus-copy\n",
            "  import sys\n"
          ]
        }
      ],
      "source": [
        "#get list number from previous list\n",
        "classdict \u003d { 2 : \"russianpost\", 3 : \"mchsgov\", 1 : \"mil\", 0 : \"mospolice\" }\n",
        "labels \u003d [\"mchsgov\", \"mil\", \"mospolice\", \"russianpost\"]\n",
        "results \u003d []\n",
        "for element in predictions:\n",
        "    results.append(classdict[element])\n",
        "test[\u0027predictions\u0027] \u003d results"
      ]
    },
    {
      "cell_type": "code",
      "execution_count": 88,
      "metadata": {
        "pycharm": {
          "metadata": false,
          "name": "#%%\n"
        }
      },
      "outputs": [
        {
          "name": "stdout",
          "output_type": "stream",
          "text": [
            "              precision    recall  f1-score   support\n",
            "\n",
            "     mchsgov       0.88      0.97      0.92       556\n",
            "         mil       0.97      0.92      0.94       635\n",
            "   mospolice       0.97      0.93      0.95       582\n",
            " russianpost       0.91      0.90      0.91       533\n",
            "\n",
            "   micro avg       0.93      0.93      0.93      2306\n",
            "   macro avg       0.93      0.93      0.93      2306\n",
            "weighted avg       0.93      0.93      0.93      2306\n",
            "\n"
          ]
        },
        {
          "data": {
            "image/png": "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\u003d\n",
            "text/plain": [
              "\u003cFigure size 1080x1080 with 1 Axes\u003e"
            ]
          },
          "metadata": {
            "needs_background": "light"
          },
          "output_type": "display_data"
        }
      ],
      "source": [
        "print(classification_report(test[\u0027predictions\u0027], test[\u0027source\u0027]))\n",
        "m \u003d confusion_matrix(test[\u0027predictions\u0027], test[\u0027source\u0027])\n",
        "plt.figure(figsize \u003d (15,15))\n",
        "sns.heatmap(data\u003dm, annot\u003dTrue, fmt\u003d\"d\", xticklabels\u003dlabels, yticklabels\u003dlabels, cbar\u003dFalse, cmap\u003d\"PuBuGn\")\n",
        "plt.title(\"Confusion matrix\")\n",
        "plt.show()"
      ]
    },
    {
      "cell_type": "markdown",
      "metadata": {
        "colab_type": "text",
        "id": "uyVQ5Gm7Qzcz",
        "pycharm": {}
      },
      "source": "## Задание 8 [2 балла]. fastText\n\nИспользуйте ```fastText``` в режиме классификации. Оцените результаты классификации по стандартным мерам качества и проведите анализ ошибок. Для этого рекомендуем визуализировать матрицу ошибок (confusion matrix)."
    },
    {
      "cell_type": "code",
      "execution_count": 131,
      "metadata": {
        "pycharm": {
          "metadata": false,
          "name": "#%%\n"
        }
      },
      "outputs": [],
      "source": "text \u003d []\nfor row in train.iterrows():\n    ourrow \u003d \"__label__\" + str(row[1][\u0027source\u0027]) + \" \" + str(row[1][\u0027lemmatizedtext\u0027])\n    text.append(ourrow)\ncorpus \u003d \"\\n\".join(text)\nwith open (\"fasttextmodel.txt\", \"w+\", encoding\u003d\"utf-8\") as r:\n    r.write(corpus)"
    },
    {
      "cell_type": "markdown",
      "metadata": {
        "pycharm": {
          "metadata": false,
          "name": "#%% md\n"
        }
      },
      "source": [
        "./fasttext supervised -input ./hw1/fa\n",
        "sttextmodel.txt -output ./hw1/classifier \u003cbr\u003e\n",
        "\u003cbr\u003e\n",
        "Read 0M words\n",
        "Number of words:  42258\n",
        "Number of labels: 4\n",
        "Progress: 100.0% words/sec/thread:  412473 lr:  0.000000 loss:  0.382469 ETA:   0h 0m"
      ]
    },
    {
      "cell_type": "code",
      "execution_count": 19,
      "metadata": {
        "pycharm": {
          "metadata": false,
          "name": "#%%\n"
        }
      },
      "outputs": [
        {
          "name": "stdout",
          "output_type": "stream",
          "text": [
            "2306\n"
          ]
        }
      ],
      "source": [
        "classifier \u003d fastText.load_model(\"./classifier.bin\")\n",
        "results \u003d classifier.predict(test[\u0027lemmatizedtext\u0027].tolist())\n",
        "finalres \u003d []\n",
        "for element in results[0]:\n",
        "    for string in element:\n",
        "        finalres.append(string.lstrip(\"__label__\"))"
      ]
    },
    {
      "cell_type": "code",
      "execution_count": 21,
      "metadata": {
        "pycharm": {
          "metadata": false,
          "name": "#%%\n"
        }
      },
      "outputs": [
        {
          "name": "stdout",
          "output_type": "stream",
          "text": [
            "              precision    recall  f1-score   support\n",
            "\n",
            "     mchsgov       0.99      0.96      0.98       607\n",
            "         mil       0.98      0.99      0.99       578\n",
            "   mospolice       0.98      0.99      0.98       603\n",
            " russianpost       0.96      0.97      0.97       518\n",
            "\n",
            "   micro avg       0.98      0.98      0.98      2306\n",
            "   macro avg       0.98      0.98      0.98      2306\n",
            "weighted avg       0.98      0.98      0.98      2306\n",
            "\n"
          ]
        },
        {
          "data": {
            "image/png": "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\u003d\u003d\n",
            "text/plain": [
              "\u003cFigure size 1080x1080 with 1 Axes\u003e"
            ]
          },
          "metadata": {
            "needs_background": "light"
          },
          "output_type": "display_data"
        }
      ],
      "source": [
        "print(classification_report(test[\u0027source\u0027], finalres))\n",
        "m \u003d confusion_matrix(test[\u0027source\u0027], finalres)\n",
        "labels \u003d [\"mchsgov\", \"mil\", \"mospolice\", \"russianpost\"]\n",
        "plt.figure(figsize \u003d (15,15))\n",
        "sns.heatmap(data\u003dm, annot\u003dTrue, fmt\u003d\"d\", xticklabels\u003dlabels, yticklabels\u003dlabels, cbar\u003dFalse, cmap\u003d\"PuBuGn\")\n",
        "plt.title(\"Confusion matrix\")\n",
        "plt.show()"
      ]
    },
    {
      "cell_type": "markdown",
      "metadata": {
        "colab_type": "text",
        "id": "_8fKqCD6Q5tW",
        "pycharm": {}
      },
      "source": "## Конец\nПодведите итоги и проведите сравнение всех использованных методов. Какой из них показался вам лучше и почему?\n\nFasttext seems the most viable method and the only one beating the baseline. This embeddings are able to catch more the semantic context that for russianpost and mchsgov were harder to catch (no fixed hastags, less structured text).  \n\n**NB!** Задание обязательное вне зависимости от того, сколько из предыдущих пунктов вы выполнили, и дополнительных баллов не дает. "
    },
    {
      "cell_type": "markdown",
      "metadata": {
        "colab_type": "text",
        "id": "4FkOuR_NiXeT",
        "pycharm": {}
      },
      "source": [
        "# Правила сдачи \n",
        "\n",
        "1. Домашняя работа должна быть выполнена в ipynb-тетрадке под названием `ML_HW1.ipynb`.\n",
        "2. Тетрадку можно загрузить либо на GitHub (и в таком случае лучше создать для домашек по курсу отдельный репозиторий), либо в Colab.\n",
        "3. Ссылку на домашку нужно оставить [вот в этом опросе](https://goo.gl/forms/JpWWwKEZRkfy8OS02). \n",
        "4. Задание выполняется в группах 1-3 человека.\n",
        "5. Все вычисления должны быть снабжены пояснениями!\n",
        "6. Дедлайн – 3 марта в 10.00.\n",
        "\n",
        "**NB!** Если вы даете ссылку на Colab, то обязательно делайте это через \"Share\", а не просто копируйте ее из адресной строки. "
      ]
    }
  ],
  "metadata": {
    "colab": {
      "collapsed_sections": [],
      "name": "HW1.ipynb",
      "provenance": [],
      "version": "0.3.2"
    },
    "kernelspec": {
      "display_name": "Python 3",
      "language": "python",
      "name": "python3"
    },
    "language_info": {
      "codemirror_mode": {
        "name": "ipython",
        "version": 3
      },
      "file_extension": ".py",
      "mimetype": "text/x-python",
      "name": "python",
      "nbconvert_exporter": "python",
      "pygments_lexer": "ipython3",
      "version": "3.7.0"
    },
    "varInspector": {
      "cols": {
        "lenName": 16,
        "lenType": 16,
        "lenVar": 40
      },
      "kernels_config": {
        "python": {
          "delete_cmd_postfix": "",
          "delete_cmd_prefix": "del ",
          "library": "var_list.py",
          "varRefreshCmd": "print(var_dic_list())"
        },
        "r": {
          "delete_cmd_postfix": ") ",
          "delete_cmd_prefix": "rm(",
          "library": "var_list.r",
          "varRefreshCmd": "cat(var_dic_list()) "
        }
      },
      "types_to_exclude": [
        "module",
        "function",
        "builtin_function_or_method",
        "instance",
        "_Feature"
      ],
      "window_display": false
    }
  },
  "nbformat": 4,
  "nbformat_minor": 1
}