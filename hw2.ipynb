{
  "cells": [
    {
      "cell_type": "markdown",
      "metadata": {
        "collapsed": true,
        "pycharm": {
          "name": "#%% md\n"
        }
      },
      "source": "Lorenzo Tosi.\nThis disambiguation method is based on the Adaptive Lesk Algorithm as\nexplained in this paper: http://www.d.umn.edu/~tpederse/Pubs/cicling2002-b.pdf.\nEvery WordNet definition for a word is augmented with all the meanings of the hyponyms, hypernyms, meronyms, homonyms and domains, in order to improve the lack of context and domain bias inherent to Lesk Algorithm."
    },
    {
      "cell_type": "code",
      "execution_count": 91,
      "outputs": [],
      "source": "import random\nimport re\nfrom nltk.corpus import wordnet as wn\nfrom string import punctuation\nfrom nltk.corpus import stopwords\nfrom pymorphy2 import MorphAnalyzer\nimport pandas as pd\nimport nltk\npd.set_option(\"display.max_colwidth\", 1000) ",
      "metadata": {
        "pycharm": {
          "metadata": false,
          "name": "#%%\n"
        }
      }
    },
    {
      "cell_type": "code",
      "execution_count": 37,
      "outputs": [],
      "source": "with open(r\"compling_nlp_hse_course/data/corpus_eng.txt\", \"r\", encoding\u003d\"utf-8\") as r:\n    corpus \u003d []\n    for line in r.readlines():\n        corpus.append(line)",
      "metadata": {
        "pycharm": {
          "metadata": false,
          "name": "#%%\n"
        }
      }
    },
    {
      "cell_type": "markdown",
      "source": "In these two blocks we create our corpus and select the 10 sentences that are going to be checked for the task.",
      "metadata": {
        "pycharm": {
          "metadata": false
        }
      }
    },
    {
      "cell_type": "code",
      "execution_count": 38,
      "outputs": [],
      "source": "breakcorpus \u003d []\nfor i, sentence in enumerate(corpus):\n    if re.search(\" break \", sentence) is not None:\n        breakcorpus.append(corpus[i])",
      "metadata": {
        "pycharm": {
          "metadata": false,
          "name": "#%%\n"
        }
      }
    },
    {
      "cell_type": "code",
      "execution_count": 39,
      "outputs": [],
      "source": "breakchoice \u003d []\nrandom.shuffle(breakcorpus)\nfor i in range(0,10):\n    breakchoice.append(breakcorpus[i])",
      "metadata": {
        "pycharm": {
          "metadata": false,
          "name": "#%% \n"
        }
      }
    },
    {
      "cell_type": "markdown",
      "source": "Here we define our tokenization and Lesk functions as we did in the seminar.",
      "metadata": {
        "pycharm": {
          "metadata": false,
          "name": "#%% md\n"
        }
      }
    },
    {
      "cell_type": "code",
      "execution_count": 107,
      "outputs": [],
      "source": "morph \u003d MorphAnalyzer()\npunct \u003d punctuation+\u0027«»—…“”*№–\u0027\nstops \u003d set(stopwords.words(\u0027english\u0027))\n\ndef normalize(text):\n    \n    words \u003d [word.strip(punct) for word in text.lower().split() if word and word not in stops]\n    words \u003d [morph.parse(word)[0].normal_form for word in words if word]\n\n    return words\n\ndef tokenize(text):\n    \n    words \u003d [word.strip(punct) for word in text.lower().split() if word and word not in stops]\n    words \u003d [word for word in words if word]\n\n    return words\n\n\ndef get_words_in_context(words, window\u003d3):\n    words_in_context \u003d []\n    for i in range(len(words)):\n        left \u003d words[max(0,i-window):i] \n        right \u003d words[i+1:i+window+1]\n        target \u003d words[i]\n        words_in_context.append((target, left+right))\n    return words_in_context\n    \n    \ndef lesk(word, sentence):\n    bestsense \u003d 0\n    maxoverlap \u003d 0\n    \n    for i, synset in enumerate(wn.synsets(word)):\n        definition \u003d normalize(synset.definition())\n        definition \u003d set(definition)\n        sentence \u003d set(sentence)\n        overlap \u003d len(definition \u0026 sentence)\n        if overlap \u003e maxoverlap:\n            maxoverlap \u003d overlap\n            bestsense \u003d i\n            \n    return bestsense",
      "metadata": {
        "pycharm": {
          "metadata": false,
          "name": "#%%\n"
        }
      }
    },
    {
      "cell_type": "markdown",
      "source": "Here we define the fuction that will create our augmented network. We take all the various hyponyms, hypernyms, etc. for a word and we tokenize the definition of everyone of them. We update incrementally every index with all those meanings for a single meaning of the word. Meanings are automatically tokenized and stopwords deleted.\n",
      "metadata": {
        "pycharm": {
          "metadata": false
        }
      }
    },
    {
      "cell_type": "code",
      "execution_count": null,
      "outputs": [],
      "source": "def wordnetworkextractor(word):\n    sensesnetwork \u003d []\n    for i, synset in enumerate(wn.synsets(word)):\n        senseslist \u003d []\n        for hyponym in wn.synsets(word)[i].hyponyms():\n            senseslist.append(normalize(hyponym.definition()))\n        templist \u003d []\n        for listing in senseslist:\n            templist.append(\" \".join(listing))\n        templist \u003d set(templist)\n        sensesnetwork.append(\" \".join(templist))\n        senseslist \u003d []\n        for hypernym in wn.synsets(word)[i].hypernyms():\n            senseslist.append(normalize(hypernym.definition()))\n        senseslist.append(normalize(wn.synsets(word)[i].definition())) #adds definition of break(n)\n        templist \u003d []\n        for listing in senseslist:\n            templist.append(\" \".join(listing))\n        templist \u003d set(templist)\n        sensesnetwork[i] +\u003d \" \" + (\" \".join(templist))\n        senseslist \u003d []\n        for member_holonym in wn.synsets(word)[i].member_holonyms():\n            senseslist.append(normalize(member_holonym.definition()))\n        templist \u003d []\n        for listing in senseslist:\n            templist.append(\" \".join(listing))\n        templist \u003d set(templist)\n        sensesnetwork[i] +\u003d \" \" + (\" \".join(templist))\n        senseslist \u003d []\n        for substance_holonym in wn.synsets(word)[i].substance_holonyms():\n            senseslist.append(normalize(substance_holonym.definition()))\n        templist \u003d []\n        for listing in senseslist:\n            templist.append(\" \".join(listing))\n        templist \u003d set(templist)\n        sensesnetwork[i] +\u003d \" \" + (\" \".join(templist))\n        senseslist \u003d []\n        for part_holonym in wn.synsets(word)[i].part_holonyms():\n            senseslist.append(normalize(part_holonym.definition()))\n        templist \u003d []\n        for listing in senseslist:\n            templist.append(\" \".join(listing))\n        templist \u003d set(templist)\n        sensesnetwork[i] +\u003d \" \" + (\" \".join(templist))\n        senseslist \u003d []\n        for part_meronym in wn.synsets(word)[i].part_meronyms():\n            senseslist.append(normalize(part_meronym.definition()))\n        templist \u003d []\n        for listing in senseslist:\n            templist.append(\" \".join(listing))\n        templist \u003d set(templist)\n        sensesnetwork[i] +\u003d \" \" + (\" \".join(templist))\n        senseslist \u003d []\n        for member_meronym in wn.synsets(word)[i].member_meronyms():\n            senseslist.append(normalize(member_meronym.definition()))\n        templist \u003d []\n        for listing in senseslist:\n            templist.append(\" \".join(listing))\n        templist \u003d set(templist)\n        sensesnetwork[i] +\u003d \" \" + (\" \".join(templist))\n        senseslist \u003d []\n        for substance_meronym in wn.synsets(word)[i].substance_meronyms():\n            senseslist.append(normalize(substance_meronym.definition()))\n        templist \u003d []\n        for listing in senseslist:\n            templist.append(\" \".join(listing))\n        templist \u003d set(templist)\n        sensesnetwork[i] +\u003d \" \" + (\" \".join(templist))\n        senseslist \u003d []\n        for topic_domain in wn.synsets(word)[i].topic_domains():\n            senseslist.append(normalize(topic_domain.definition()))\n        templist \u003d []\n        for listing in senseslist:\n            templist.append(\" \".join(listing))\n        templist \u003d set(templist)\n        sensesnetwork[i] +\u003d \" \" + (\" \".join(templist))\n        senseslist \u003d []\n        for region_domain in wn.synsets(word)[i].region_domains():\n            senseslist.append(normalize(region_domain.definition()))\n        templist \u003d []\n        for listing in senseslist:\n            templist.append(\" \".join(listing))\n        templist \u003d set(templist)\n        sensesnetwork[i] +\u003d \" \" + (\" \".join(templist))\n        for usage_domain in wn.synsets(word)[i].usage_domains():\n            senseslist.append(normalize(usage_domain.definition()))\n        templist \u003d []\n        for listing in senseslist:\n            templist.append(\" \".join(listing))\n        templist \u003d set(templist)\n        sensesnetwork[i] +\u003d \" \" + (\" \".join(templist))\n        sensesnetwork[i].lstrip()\n    return sensesnetwork",
      "metadata": {
        "pycharm": {
          "metadata": false,
          "name": "#%% md#%%\n"
        }
      }
    },
    {
      "cell_type": "markdown",
      "source": "We tokenize with the same method our 10 randomly selected sentences and try how well the basic Lesk Algorithm can disambiguate. We create a DataFrame to better interpret our data and debug issues (Word index refers to the sentence with stop words removed, not the original one).",
      "metadata": {
        "pycharm": {
          "metadata": false
        }
      }
    },
    {
      "cell_type": "code",
      "execution_count": 42,
      "outputs": [],
      "source": "breakchoicetoken \u003d [normalize(line) for line in breakchoice]",
      "metadata": {
        "pycharm": {
          "metadata": false,
          "name": "#%%\n"
        }
      }
    },
    {
      "cell_type": "code",
      "execution_count": 53,
      "outputs": [
        {
          "name": "stdout",
          "text": [
            "   words  wordind  sentind  defid  \\\n0  break       15        0      0   \n1  break       58        1      0   \n2  break       42        2      0   \n3  break        1        3     43   \n4  break       49        4      0   \n5  break       15        5      0   \n6  break        0        6      0   \n7  break        2        7     26   \n8  break        8        8      0   \n9  break       14        9      0   \n\n                                                                                                                       definition  \\\n0                                                                      some abrupt occurrence that interrupts an ongoing activity   \n1                                                                      some abrupt occurrence that interrupts an ongoing activity   \n2                                                                      some abrupt occurrence that interrupts an ongoing activity   \n3                                                                                                            happen or take place   \n4                                                                      some abrupt occurrence that interrupts an ongoing activity   \n5                                                                      some abrupt occurrence that interrupts an ongoing activity   \n6                                                                      some abrupt occurrence that interrupts an ongoing activity   \n7  enter someone\u0027s (virtual or real) property in an unauthorized manner, usually with the intent to steal or commit a violent act   \n8                                                                      some abrupt occurrence that interrupts an ongoing activity   \n9                                                                      some abrupt occurrence that interrupts an ongoing activity   \n\n                                                                                                                                                                                                    context  \n0      ng an interview with 103.5 KTU in September, she was asked what she thought of Selena Gomez taking a break from her career to deal with anxiety, depression and panic attacks caused by her lupus.\\n  \n1  , including Libya and Syria. Her expedition officially started on July 24, 2015, and she\u0027s trying to break the Guinness World Record of Graham Hughes , who accomplished the same feat in four years, 31  \n2   minutes from halftime. Diakite then converted a layup on the other end to prompt a Yale timeout and break the Cavaliers out of a sluggish first-half stretch that saw them miss 14 of their first 17 fi  \n3                                                                                               “Take a break from Facebook, from your TV, from your apps,” she advised. “Unplugging is super important.” S  \n4  le Foods and heading towards her royal beau\u0027s home at Kensington Palace. The actress recently took a break from filming Suits , and it seems that she\u0027s using the time to get up close and personal with  \n5  ing highway and bridge projects with the federal gas tax through 2008, but then the process began to break down as the trust fund began to run out of money, and lawmakers resorted to a series of stop-  \n6                                                                                              After we break down Week 13 D/ST options into tiers like usual, we will bust out our fantasy playoff battle   \n7                                                                           Following the international break Atleti faces Real in a titanic capital derby, while the Blues will square off against Middles  \n8                                          Police said they made five arrests among anti-fascists who tried to break through police lines before the demonstration eventually dispersed in the afternoon.\\n  \n9                                    of its commanders during battle preparations in Aleppo after a rebel offensive launched last week to break the government\u0027s siege of the city\u0027s rebel neighborhoods.\\n  \n"
          ],
          "output_type": "stream"
        }
      ],
      "source": "breaklist \u003d []\nfor i, text in enumerate(breakchoicetoken):\n    dis_text \u003d []\n    words_in_context \u003d get_words_in_context(text)\n    for j, (word, context) in enumerate(words_in_context):\n        nsense \u003d lesk(word, context)\n        if re.search(\"^break$\", word) is not None:\n            findind \u003d breakchoice[i].find(\" break \")\n            breaklist.append((word, j, i, nsense, wn.synsets(word)[nsense].definition(), breakchoice[i][max(0,findind-100):findind+100]))\nlabels \u003d [\"words\", \"wordind\", \"sentind\", \"defid\", \"definition\", \"context\"]\nFinalData \u003d pd.DataFrame.from_records(breaklist, columns\u003dlabels)\nprint(FinalData)",
      "metadata": {
        "pycharm": {
          "metadata": false,
          "name": "#%%\n"
        }
      }
    },
    {
      "cell_type": "markdown",
      "source": "Here 8/10 meanings are the same, probably the result of a very limited context window. Only 2/10 meanings could be reputed as acceptable. ",
      "metadata": {
        "pycharm": {
          "metadata": false,
          "name": "#%% md\n"
        }
      }
    },
    {
      "cell_type": "code",
      "execution_count": 109,
      "outputs": [
        {
          "name": "stdout",
          "text": [
            "   words  wordind  sentind  defid  \\\n0  break       32        0     28   \n1  break      105        1     20   \n2  break       68        2     20   \n3  break        2        3     43   \n4  break       79        4      0   \n5  break       26        5      3   \n6  break        2        6     51   \n7  break        3        7     26   \n8  break       11        8      0   \n9  break       21        9     20   \n\n                                                                                                                       definition  \\\n0                                                                 fail to agree with; be in violation of; as of rules or patterns   \n1                                          destroy the integrity of; usually by force; cause to separate into pieces or fragments   \n2                                          destroy the integrity of; usually by force; cause to separate into pieces or fragments   \n3                                                                                                            happen or take place   \n4                                                                      some abrupt occurrence that interrupts an ongoing activity   \n5                                                                  a personal or social separation (as between opposing factions)   \n6                                                                                         break down, literally or metaphorically   \n7  enter someone\u0027s (virtual or real) property in an unauthorized manner, usually with the intent to steal or commit a violent act   \n8                                                                      some abrupt occurrence that interrupts an ongoing activity   \n9                                          destroy the integrity of; usually by force; cause to separate into pieces or fragments   \n\n                                                                                                                                                                                                    context  \n0      ng an interview with 103.5 KTU in September, she was asked what she thought of Selena Gomez taking a break from her career to deal with anxiety, depression and panic attacks caused by her lupus.\\n  \n1  , including Libya and Syria. Her expedition officially started on July 24, 2015, and she\u0027s trying to break the Guinness World Record of Graham Hughes , who accomplished the same feat in four years, 31  \n2   minutes from halftime. Diakite then converted a layup on the other end to prompt a Yale timeout and break the Cavaliers out of a sluggish first-half stretch that saw them miss 14 of their first 17 fi  \n3                                                                                               “Take a break from Facebook, from your TV, from your apps,” she advised. “Unplugging is super important.” S  \n4  le Foods and heading towards her royal beau\u0027s home at Kensington Palace. The actress recently took a break from filming Suits , and it seems that she\u0027s using the time to get up close and personal with  \n5  ing highway and bridge projects with the federal gas tax through 2008, but then the process began to break down as the trust fund began to run out of money, and lawmakers resorted to a series of stop-  \n6                                                                                              After we break down Week 13 D/ST options into tiers like usual, we will bust out our fantasy playoff battle   \n7                                                                           Following the international break Atleti faces Real in a titanic capital derby, while the Blues will square off against Middles  \n8                                          Police said they made five arrests among anti-fascists who tried to break through police lines before the demonstration eventually dispersed in the afternoon.\\n  \n9                                    of its commanders during battle preparations in Aleppo after a rebel offensive launched last week to break the government\u0027s siege of the city\u0027s rebel neighborhoods.\\n  \n"
          ],
          "output_type": "stream"
        }
      ],
      "source": "breaklist \u003d []\nfor i, text in enumerate(breakchoicetoken):\n    dis_text \u003d []\n    words_in_context \u003d get_words_in_context(text, window\u003d 10)\n    for j, (word, context) in enumerate(words_in_context):\n        nsense \u003d lesk(word, context)\n        if re.search(\"^break$\", word) is not None:\n            findind \u003d breakchoice[i].find(\" break \")\n            breaklist.append((word, j, i, nsense, wn.synsets(word)[nsense].definition(), breakchoice[i][max(0,findind-100):findind+100]))\nlabels \u003d [\"words\", \"wordind\", \"sentind\", \"defid\", \"definition\", \"context\"]\nFinalData2 \u003d pd.DataFrame.from_records(breaklist, columns\u003dlabels)\nprint(FinalData2)",
      "metadata": {
        "pycharm": {
          "metadata": false,
          "name": "#%%\n"
        }
      }
    },
    {
      "cell_type": "code",
      "execution_count": 108,
      "outputs": [
        {
          "name": "stdout",
          "text": [
            "   words  wordind  sentind  defid  \\\n0  break       32        0     28   \n1  break      105        1      3   \n2  break       68        2     28   \n3  break        2        3     43   \n4  break       79        4      3   \n5  break       26        5     28   \n6  break        2        6     28   \n7  break        3        7     26   \n8  break       11        8      0   \n9  break       21        9      2   \n\n                                                                                                                       definition  \\\n0                                                                 fail to agree with; be in violation of; as of rules or patterns   \n1                                                                  a personal or social separation (as between opposing factions)   \n2                                                                 fail to agree with; be in violation of; as of rules or patterns   \n3                                                                                                            happen or take place   \n4                                                                  a personal or social separation (as between opposing factions)   \n5                                                                 fail to agree with; be in violation of; as of rules or patterns   \n6                                                                 fail to agree with; be in violation of; as of rules or patterns   \n7  enter someone\u0027s (virtual or real) property in an unauthorized manner, usually with the intent to steal or commit a violent act   \n8                                                                      some abrupt occurrence that interrupts an ongoing activity   \n9                    (geology) a crack in the earth\u0027s crust resulting from the displacement of one side with respect to the other   \n\n                                                                                                                                                                                                    context  \n0      ng an interview with 103.5 KTU in September, she was asked what she thought of Selena Gomez taking a break from her career to deal with anxiety, depression and panic attacks caused by her lupus.\\n  \n1  , including Libya and Syria. Her expedition officially started on July 24, 2015, and she\u0027s trying to break the Guinness World Record of Graham Hughes , who accomplished the same feat in four years, 31  \n2   minutes from halftime. Diakite then converted a layup on the other end to prompt a Yale timeout and break the Cavaliers out of a sluggish first-half stretch that saw them miss 14 of their first 17 fi  \n3                                                                                               “Take a break from Facebook, from your TV, from your apps,” she advised. “Unplugging is super important.” S  \n4  le Foods and heading towards her royal beau\u0027s home at Kensington Palace. The actress recently took a break from filming Suits , and it seems that she\u0027s using the time to get up close and personal with  \n5  ing highway and bridge projects with the federal gas tax through 2008, but then the process began to break down as the trust fund began to run out of money, and lawmakers resorted to a series of stop-  \n6                                                                                              After we break down Week 13 D/ST options into tiers like usual, we will bust out our fantasy playoff battle   \n7                                                                           Following the international break Atleti faces Real in a titanic capital derby, while the Blues will square off against Middles  \n8                                          Police said they made five arrests among anti-fascists who tried to break through police lines before the demonstration eventually dispersed in the afternoon.\\n  \n9                                    of its commanders during battle preparations in Aleppo after a rebel offensive launched last week to break the government\u0027s siege of the city\u0027s rebel neighborhoods.\\n  \n"
          ],
          "output_type": "stream"
        }
      ],
      "source": "breaklist \u003d []\nfor i, text in enumerate(breakchoicetoken):\n    dis_text \u003d []\n    words_in_context \u003d get_words_in_context(text, window\u003d 50)\n    for j, (word, context) in enumerate(words_in_context):\n        nsense \u003d lesk(word, context)\n        if re.search(\"^break$\", word) is not None:\n            findind \u003d breakchoice[i].find(\" break \")\n            breaklist.append((word, j, i, nsense, wn.synsets(word)[nsense].definition(), breakchoice[i][max(0,findind-100):findind+100]))\nlabels \u003d [\"words\", \"wordind\", \"sentind\", \"defid\", \"definition\", \"context\"]\nFinalData22 \u003d pd.DataFrame.from_records(breaklist, columns\u003dlabels)\nprint(FinalData22)",
      "metadata": {
        "pycharm": {
          "metadata": false,
          "name": "#%%\n"
        }
      }
    },
    {
      "cell_type": "markdown",
      "source": "Here we tried with a window of 10 and 50 and see the results. We have a bigger variety of options. With 10 definitions are way more varied and radically different than window \u003d 3, but seems inaccurate, only sentence 6 and 9 (we refer as per index from 0 to 9) could be considered accurate. With window 50 the ratio of words in the set(sentence \u0026 definition) in the algorithm seems to make the definition 28 prevail on the other generically, we still retain very low accuracy. Let\u0027s try the Adaptive Lesk Algorithm now with the same windows. ",
      "metadata": {
        "pycharm": {
          "metadata": false,
          "name": "#%% md\n"
        }
      }
    },
    {
      "cell_type": "code",
      "execution_count": 114,
      "outputs": [],
      "source": "def adaptivelesk(word, sentence):\n    bestsense \u003d 0\n    maxoverlap \u003d 0\n    wordnetwork \u003d wordnetworkextractor(word)\n    \n    for i, synset in enumerate(wn.synsets(word)):\n        definition \u003d set(wordnetwork[i].split())\n        sentence \u003d set(sentence)\n        overlap \u003d len(definition \u0026 sentence)\n        if overlap \u003e maxoverlap:\n            maxoverlap \u003d overlap\n            bestsense \u003d i\n            \n    return bestsense\n",
      "metadata": {
        "pycharm": {
          "metadata": false,
          "name": "#%%\n"
        }
      }
    },
    {
      "cell_type": "code",
      "execution_count": 115,
      "outputs": [
        {
          "name": "stdout",
          "text": [
            "   words  wordind  sentind  defid  \\\n0  break       32        0     13   \n1  break      105        1      0   \n2  break       68        2      0   \n3  break        2        3     43   \n4  break       79        4     47   \n5  break       26        5      3   \n6  break        2        6      4   \n7  break        3        7     26   \n8  break       11        8     60   \n9  break       21        9      4   \n\n                                                                                                                       definition  \\\n0                                                                                                                   a sudden dash   \n1                                                                      some abrupt occurrence that interrupts an ongoing activity   \n2                                                                      some abrupt occurrence that interrupts an ongoing activity   \n3                                                                                                            happen or take place   \n4                                                                                      assign to a lower position; reduce in rank   \n5                                                                  a personal or social separation (as between opposing factions)   \n6                                                                                          a pause from doing something (as work)   \n7  enter someone\u0027s (virtual or real) property in an unauthorized manner, usually with the intent to steal or commit a violent act   \n8                                                                                                             pierce or penetrate   \n9                                                                                          a pause from doing something (as work)   \n\n                                                                                                                                                                                                    context  \n0      ng an interview with 103.5 KTU in September, she was asked what she thought of Selena Gomez taking a break from her career to deal with anxiety, depression and panic attacks caused by her lupus.\\n  \n1  , including Libya and Syria. Her expedition officially started on July 24, 2015, and she\u0027s trying to break the Guinness World Record of Graham Hughes , who accomplished the same feat in four years, 31  \n2   minutes from halftime. Diakite then converted a layup on the other end to prompt a Yale timeout and break the Cavaliers out of a sluggish first-half stretch that saw them miss 14 of their first 17 fi  \n3                                                                                               “Take a break from Facebook, from your TV, from your apps,” she advised. “Unplugging is super important.” S  \n4  le Foods and heading towards her royal beau\u0027s home at Kensington Palace. The actress recently took a break from filming Suits , and it seems that she\u0027s using the time to get up close and personal with  \n5  ing highway and bridge projects with the federal gas tax through 2008, but then the process began to break down as the trust fund began to run out of money, and lawmakers resorted to a series of stop-  \n6                                                                                              After we break down Week 13 D/ST options into tiers like usual, we will bust out our fantasy playoff battle   \n7                                                                           Following the international break Atleti faces Real in a titanic capital derby, while the Blues will square off against Middles  \n8                                          Police said they made five arrests among anti-fascists who tried to break through police lines before the demonstration eventually dispersed in the afternoon.\\n  \n9                                    of its commanders during battle preparations in Aleppo after a rebel offensive launched last week to break the government\u0027s siege of the city\u0027s rebel neighborhoods.\\n  \n"
          ],
          "output_type": "stream"
        }
      ],
      "source": "breaklist \u003d []\nfor i, text in enumerate(breakchoicetoken):\n    dis_text \u003d []\n    words_in_context \u003d get_words_in_context(text, window\u003d 3)\n    for j, (word, context) in enumerate(words_in_context):\n        nsense \u003d adaptivelesk(word, context)\n        if re.search(\"^break$\", word) is not None:\n            findind \u003d breakchoice[i].find(\" break \")\n            breaklist.append((word, j, i, nsense, wn.synsets(word)[nsense].definition(), breakchoice[i][max(0,findind-100):findind+100]))\nlabels \u003d [\"words\", \"wordind\", \"sentind\", \"defid\", \"definition\", \"context\"]\nFinalData3 \u003d pd.DataFrame.from_records(breaklist, columns\u003dlabels)\nprint(FinalData3)",
      "metadata": {
        "pycharm": {
          "metadata": false,
          "name": "#%%\n"
        }
      }
    },
    {
      "cell_type": "code",
      "execution_count": 116,
      "outputs": [
        {
          "name": "stdout",
          "text": [
            "   words  wordind  sentind  defid  \\\n0  break       32        0     28   \n1  break      105        1     20   \n2  break       68        2      7   \n3  break        2        3      6   \n4  break       79        4     47   \n5  break       26        5      3   \n6  break        2        6      4   \n7  break        3        7     26   \n8  break       11        8     60   \n9  break       21        9      4   \n\n                                                                                                                       definition  \\\n0                                                                 fail to agree with; be in violation of; as of rules or patterns   \n1                                          destroy the integrity of; usually by force; cause to separate into pieces or fragments   \n2                                                                                            breaking of hard tissue such as bone   \n3                                                        a time interval during which there is a temporary cessation of something   \n4                                                                                      assign to a lower position; reduce in rank   \n5                                                                  a personal or social separation (as between opposing factions)   \n6                                                                                          a pause from doing something (as work)   \n7  enter someone\u0027s (virtual or real) property in an unauthorized manner, usually with the intent to steal or commit a violent act   \n8                                                                                                             pierce or penetrate   \n9                                                                                          a pause from doing something (as work)   \n\n                                                                                                                                                                                                    context  \n0      ng an interview with 103.5 KTU in September, she was asked what she thought of Selena Gomez taking a break from her career to deal with anxiety, depression and panic attacks caused by her lupus.\\n  \n1  , including Libya and Syria. Her expedition officially started on July 24, 2015, and she\u0027s trying to break the Guinness World Record of Graham Hughes , who accomplished the same feat in four years, 31  \n2   minutes from halftime. Diakite then converted a layup on the other end to prompt a Yale timeout and break the Cavaliers out of a sluggish first-half stretch that saw them miss 14 of their first 17 fi  \n3                                                                                               “Take a break from Facebook, from your TV, from your apps,” she advised. “Unplugging is super important.” S  \n4  le Foods and heading towards her royal beau\u0027s home at Kensington Palace. The actress recently took a break from filming Suits , and it seems that she\u0027s using the time to get up close and personal with  \n5  ing highway and bridge projects with the federal gas tax through 2008, but then the process began to break down as the trust fund began to run out of money, and lawmakers resorted to a series of stop-  \n6                                                                                              After we break down Week 13 D/ST options into tiers like usual, we will bust out our fantasy playoff battle   \n7                                                                           Following the international break Atleti faces Real in a titanic capital derby, while the Blues will square off against Middles  \n8                                          Police said they made five arrests among anti-fascists who tried to break through police lines before the demonstration eventually dispersed in the afternoon.\\n  \n9                                    of its commanders during battle preparations in Aleppo after a rebel offensive launched last week to break the government\u0027s siege of the city\u0027s rebel neighborhoods.\\n  \n"
          ],
          "output_type": "stream"
        }
      ],
      "source": "breaklist \u003d []\nfor i, text in enumerate(breakchoicetoken):\n    dis_text \u003d []\n    words_in_context \u003d get_words_in_context(text, window\u003d 10)\n    for j, (word, context) in enumerate(words_in_context):\n        nsense \u003d adaptivelesk(word, context)\n        if re.search(\"^break$\", word) is not None:\n            findind \u003d breakchoice[i].find(\" break \")\n            breaklist.append((word, j, i, nsense, wn.synsets(word)[nsense].definition(), breakchoice[i][max(0,findind-100):findind+100]))\nlabels \u003d [\"words\", \"wordind\", \"sentind\", \"defid\", \"definition\", \"context\"]\nFinalData4 \u003d pd.DataFrame.from_records(breaklist, columns\u003dlabels)\nprint(FinalData4)",
      "metadata": {
        "pycharm": {
          "metadata": false,
          "name": "#%%\n"
        }
      }
    },
    {
      "cell_type": "code",
      "execution_count": 117,
      "outputs": [
        {
          "name": "stdout",
          "text": [
            "   words  wordind  sentind  defid  \\\n0  break       32        0      6   \n1  break      105        1     47   \n2  break       68        2     10   \n3  break        2        3      6   \n4  break       79        4      3   \n5  break       26        5      9   \n6  break        2        6     28   \n7  break        3        7     21   \n8  break       11        8     60   \n9  break       21        9      0   \n\n                                                                                definition  \\\n0                 a time interval during which there is a temporary cessation of something   \n1                                               assign to a lower position; reduce in rank   \n2                            the opening shot that scatters the balls in billiards or pool   \n3                 a time interval during which there is a temporary cessation of something   \n4                           a personal or social separation (as between opposing factions)   \n5  an abrupt change in the tone or register of the voice (as at puberty or due to emotion)   \n6                          fail to agree with; be in violation of; as of rules or patterns   \n7                                  act in disregard of laws, rules, contracts, or promises   \n8                                                                      pierce or penetrate   \n9                               some abrupt occurrence that interrupts an ongoing activity   \n\n                                                                                                                                                                                                    context  \n0      ng an interview with 103.5 KTU in September, she was asked what she thought of Selena Gomez taking a break from her career to deal with anxiety, depression and panic attacks caused by her lupus.\\n  \n1  , including Libya and Syria. Her expedition officially started on July 24, 2015, and she\u0027s trying to break the Guinness World Record of Graham Hughes , who accomplished the same feat in four years, 31  \n2   minutes from halftime. Diakite then converted a layup on the other end to prompt a Yale timeout and break the Cavaliers out of a sluggish first-half stretch that saw them miss 14 of their first 17 fi  \n3                                                                                               “Take a break from Facebook, from your TV, from your apps,” she advised. “Unplugging is super important.” S  \n4  le Foods and heading towards her royal beau\u0027s home at Kensington Palace. The actress recently took a break from filming Suits , and it seems that she\u0027s using the time to get up close and personal with  \n5  ing highway and bridge projects with the federal gas tax through 2008, but then the process began to break down as the trust fund began to run out of money, and lawmakers resorted to a series of stop-  \n6                                                                                              After we break down Week 13 D/ST options into tiers like usual, we will bust out our fantasy playoff battle   \n7                                                                           Following the international break Atleti faces Real in a titanic capital derby, while the Blues will square off against Middles  \n8                                          Police said they made five arrests among anti-fascists who tried to break through police lines before the demonstration eventually dispersed in the afternoon.\\n  \n9                                    of its commanders during battle preparations in Aleppo after a rebel offensive launched last week to break the government\u0027s siege of the city\u0027s rebel neighborhoods.\\n  \n"
          ],
          "output_type": "stream"
        }
      ],
      "source": "breaklist \u003d []\nfor i, text in enumerate(breakchoicetoken):\n    dis_text \u003d []\n    words_in_context \u003d get_words_in_context(text, window\u003d 50)\n    for j, (word, context) in enumerate(words_in_context):\n        nsense \u003d adaptivelesk(word, context)\n        if re.search(\"^break$\", word) is not None:\n            findind \u003d breakchoice[i].find(\" break \")\n            breaklist.append((word, j, i, nsense, wn.synsets(word)[nsense].definition(), breakchoice[i][max(0,findind-100):findind+100]))\nlabels \u003d [\"words\", \"wordind\", \"sentind\", \"defid\", \"definition\", \"context\"]\nFinalData5 \u003d pd.DataFrame.from_records(breaklist, columns\u003dlabels)\nprint(FinalData5)",
      "metadata": {
        "pycharm": {
          "metadata": false,
          "name": "#%%\n"
        }
      }
    },
    {
      "cell_type": "markdown",
      "source": "Here we can see that definitions on windows \u003d 3 are way more varied (7 as opposed to 3 in the basic algorithm). The accuracy still does not raise and different sentences are assigned right meanings (1/10). With widnows \u003d 10 accuracy is 2 and we have some small changes in meaning. With windows \u003d 50 we have a 3/10, with some meanings (as in sentence 9) not shifting compared to the basic Lesk. This suggest this algorithm is less sensible to the bias induced with the change of window (like probability of catching random high frequency words) and extending the context could be a good decision. Let\u0027s try a new strategy for scoring.",
      "metadata": {
        "pycharm": {
          "metadata": false,
          "name": "#%% md\n"
        }
      }
    },
    {
      "cell_type": "code",
      "execution_count": 120,
      "outputs": [
        {
          "name": "stdout",
          "text": [
            "   words  wordind  sentind  defid  \\\n0  break       32        0     28   \n1  break      105        1     23   \n2  break       68        2     28   \n3  break        2        3     43   \n4  break       79        4     28   \n5  break       26        5     28   \n6  break        2        6     28   \n7  break        3        7     66   \n8  break       11        8     60   \n9  break       21        9     28   \n\n                                                        definition  \\\n0  fail to agree with; be in violation of; as of rules or patterns   \n1                                                  scatter or part   \n2  fail to agree with; be in violation of; as of rules or patterns   \n3                                             happen or take place   \n4  fail to agree with; be in violation of; as of rules or patterns   \n5  fail to agree with; be in violation of; as of rules or patterns   \n6  fail to agree with; be in violation of; as of rules or patterns   \n7                                      find the solution or key to   \n8                                              pierce or penetrate   \n9  fail to agree with; be in violation of; as of rules or patterns   \n\n                                                                                                                                                                                                    context  \n0      ng an interview with 103.5 KTU in September, she was asked what she thought of Selena Gomez taking a break from her career to deal with anxiety, depression and panic attacks caused by her lupus.\\n  \n1  , including Libya and Syria. Her expedition officially started on July 24, 2015, and she\u0027s trying to break the Guinness World Record of Graham Hughes , who accomplished the same feat in four years, 31  \n2   minutes from halftime. Diakite then converted a layup on the other end to prompt a Yale timeout and break the Cavaliers out of a sluggish first-half stretch that saw them miss 14 of their first 17 fi  \n3                                                                                               “Take a break from Facebook, from your TV, from your apps,” she advised. “Unplugging is super important.” S  \n4  le Foods and heading towards her royal beau\u0027s home at Kensington Palace. The actress recently took a break from filming Suits , and it seems that she\u0027s using the time to get up close and personal with  \n5  ing highway and bridge projects with the federal gas tax through 2008, but then the process began to break down as the trust fund began to run out of money, and lawmakers resorted to a series of stop-  \n6                                                                                              After we break down Week 13 D/ST options into tiers like usual, we will bust out our fantasy playoff battle   \n7                                                                           Following the international break Atleti faces Real in a titanic capital derby, while the Blues will square off against Middles  \n8                                          Police said they made five arrests among anti-fascists who tried to break through police lines before the demonstration eventually dispersed in the afternoon.\\n  \n9                                    of its commanders during battle preparations in Aleppo after a rebel offensive launched last week to break the government\u0027s siege of the city\u0027s rebel neighborhoods.\\n  \n"
          ],
          "output_type": "stream"
        }
      ],
      "source": "def adaptivelesk(word, sentence):\n    bestsense \u003d 0\n    maxoverlap \u003d 0\n    wordnetwork \u003d wordnetworkextractor(word)\n    \n    for i, synset in enumerate(wn.synsets(word)):\n        definition \u003d set(wordnetwork[i].split())\n        sentence \u003d set(sentence)\n        if len(definition) \u003e 0:\n            overlap \u003d len(definition \u0026 sentence)/len(definition)\n        else:\n            overlap \u003d 0\n        if overlap \u003e maxoverlap:\n            maxoverlap \u003d overlap\n            bestsense \u003d i\n            \n    return bestsense\n\n\nbreaklist \u003d []\nfor i, text in enumerate(breakchoicetoken):\n    dis_text \u003d []\n    words_in_context \u003d get_words_in_context(text, window\u003d 50)\n    for j, (word, context) in enumerate(words_in_context):\n        nsense \u003d adaptivelesk(word, context)\n        if re.search(\"^break$\", word) is not None:\n            findind \u003d breakchoice[i].find(\" break \")\n            breaklist.append((word, j, i, nsense, wn.synsets(word)[nsense].definition(), breakchoice[i][max(0,findind-100):findind+100]))\nlabels \u003d [\"words\", \"wordind\", \"sentind\", \"defid\", \"definition\", \"context\"]\nFinalData6 \u003d pd.DataFrame.from_records(breaklist, columns\u003dlabels)\nprint(FinalData6)",
      "metadata": {
        "pycharm": {
          "metadata": false,
          "name": "#%%\n"
        }
      }
    },
    {
      "cell_type": "markdown",
      "source": "Here we change the way the lesk score is calculated (len(definition \u0026 sentence)/len(definition)), making it a ratio dependent on the length of every definition, to try to see if it is a good scoring strategy. The results show us that, instead of reducing the bias between long and short definitions, it tends to prefer too heavily short ones (short related to the extended network).\n\nThis algorithm is still scoring poorly on sentences where we have, for example, phrasal verbs (\"break down\", \"break through\"). Let\u0027s try to add the possibility of catching bigrams by modifying our algorithm. We will create a function that gets the index of the word in the sentence and one that gets the left and right neighbours. We will then try if the network for the bigrams \"n-1, n\" and \"n, n+1\" exist (the order is not casual, bigrams like \"tax break\" are less frequent and more specific in meaning than \"break down\", so we check first if they are valid). If the network exists, the bigram will became the new word and we will build the extended network related to the bigram.\n\nAs words like \"down\" are considered stop words by the set we use, we will not remove stopwords from the sentence (as stopwords were removed from the extended network inside the function, they still will not count in the scoring, but they will make us catch bigrams).\n\nWe will also make the program faster by checking only word context for ambiguity and make the code usable for other words.",
      "metadata": {
        "pycharm": {
          "metadata": false,
          "name": "#%% md\n"
        }
      }
    },
    {
      "cell_type": "code",
      "execution_count": 122,
      "outputs": [],
      "source": "def adaptivelesk(word, sentence, collocation):\n    bestsense \u003d 0\n    maxoverlap \u003d 0\n    wordclean \u003d word\n    testcollocationaft \u003d collocation[0] + \"_\" + collocation[1]\n    testcollocationbef \u003d collocation[2] + \"_\" + collocation[0]\n    if len(wn.synsets(testcollocationaft)) is not 0:\n        word \u003d testcollocationaft\n        wordclean \u003d collocation[0] + \" \" + collocation[1]\n    elif len(wn.synsets(testcollocationbef)) is not 0:\n        word \u003d testcollocationbef\n        wordclean \u003d collocation[2] + \" \" + collocation[0]\n    wordnetwork \u003d wordnetworkextractor(word)\n    for i, synset in enumerate(wn.synsets(word)):\n        definition \u003d set(wordnetwork[i].split())\n        sentence \u003d set(sentence)\n        overlap \u003d len(definition \u0026 sentence)\n        if overlap \u003e maxoverlap:\n            maxoverlap \u003d overlap\n            bestsense \u003d i\n            \n    return word, bestsense, wordclean\n\n\ndef getindex(words, word):\n    for i, singleword in enumerate(words):\n        if singleword \u003d\u003d word:\n            return i\n\n\ndef getcollocation(words, word):\n    for i, singleword in enumerate(words):\n        if singleword \u003d\u003d word:\n            return [word, words[i+1], words[max(0,i-1)]]\n\n\ndef tokenizewithstops(text):\n    \n    words \u003d [word.strip(punct) for word in text.lower().split() if word]\n    words \u003d [word for word in words if word]\n\n    return words\n    \ndef normalize(text):\n    \n    words \u003d [word.strip(punct) for word in text.lower().split() if word and word not in stops]\n    words \u003d [morph.parse(word)[0].normal_form for word in words if word]\n\n    return words\n\ndef normalizewithstops(text):\n    \n    words \u003d [word.strip(punct) for word in text.lower().split() if word]\n    words \u003d [morph.parse(word)[0].normal_form for word in words if word]\n\n    return words\n    \ndef wordnetworkextractor(word):\n    sensesnetwork \u003d []\n    for i, synset in enumerate(wn.synsets(word)):\n        senseslist \u003d []\n        for hyponym in wn.synsets(word)[i].hyponyms():\n            senseslist.append(normalize(hyponym.definition()))\n        templist \u003d []\n        for listing in senseslist:\n            templist.append(\" \".join(listing))\n        templist \u003d set(templist)\n        sensesnetwork.append(\" \".join(templist))\n        senseslist \u003d []\n        for hypernym in wn.synsets(word)[i].hypernyms():\n            senseslist.append(normalize(hypernym.definition()))\n        senseslist.append(normalize(wn.synsets(word)[i].definition())) #adds definition of break(n)\n        templist \u003d []\n        for listing in senseslist:\n            templist.append(\" \".join(listing))\n        templist \u003d set(templist)\n        sensesnetwork[i] +\u003d \" \" + (\" \".join(templist))\n        senseslist \u003d []\n        for member_holonym in wn.synsets(word)[i].member_holonyms():\n            senseslist.append(normalize(member_holonym.definition()))\n        templist \u003d []\n        for listing in senseslist:\n            templist.append(\" \".join(listing))\n        templist \u003d set(templist)\n        sensesnetwork[i] +\u003d \" \" + (\" \".join(templist))\n        senseslist \u003d []\n        for substance_holonym in wn.synsets(word)[i].substance_holonyms():\n            senseslist.append(normalize(substance_holonym.definition()))\n        templist \u003d []\n        for listing in senseslist:\n            templist.append(\" \".join(listing))\n        templist \u003d set(templist)\n        sensesnetwork[i] +\u003d \" \" + (\" \".join(templist))\n        senseslist \u003d []\n        for part_holonym in wn.synsets(word)[i].part_holonyms():\n            senseslist.append(normalize(part_holonym.definition()))\n        templist \u003d []\n        for listing in senseslist:\n            templist.append(\" \".join(listing))\n        templist \u003d set(templist)\n        sensesnetwork[i] +\u003d \" \" + (\" \".join(templist))\n        senseslist \u003d []\n        for part_meronym in wn.synsets(word)[i].part_meronyms():\n            senseslist.append(normalize(part_meronym.definition()))\n        templist \u003d []\n        for listing in senseslist:\n            templist.append(\" \".join(listing))\n        templist \u003d set(templist)\n        sensesnetwork[i] +\u003d \" \" + (\" \".join(templist))\n        senseslist \u003d []\n        for member_meronym in wn.synsets(word)[i].member_meronyms():\n            senseslist.append(normalize(member_meronym.definition()))\n        templist \u003d []\n        for listing in senseslist:\n            templist.append(\" \".join(listing))\n        templist \u003d set(templist)\n        sensesnetwork[i] +\u003d \" \" + (\" \".join(templist))\n        senseslist \u003d []\n        for substance_meronym in wn.synsets(word)[i].substance_meronyms():\n            senseslist.append(normalize(substance_meronym.definition()))\n        templist \u003d []\n        for listing in senseslist:\n            templist.append(\" \".join(listing))\n        templist \u003d set(templist)\n        sensesnetwork[i] +\u003d \" \" + (\" \".join(templist))\n        senseslist \u003d []\n        for topic_domain in wn.synsets(word)[i].topic_domains():\n            senseslist.append(normalize(topic_domain.definition()))\n        templist \u003d []\n        for listing in senseslist:\n            templist.append(\" \".join(listing))\n        templist \u003d set(templist)\n        sensesnetwork[i] +\u003d \" \" + (\" \".join(templist))\n        senseslist \u003d []\n        for region_domain in wn.synsets(word)[i].region_domains():\n            senseslist.append(normalize(region_domain.definition()))\n        templist \u003d []\n        for listing in senseslist:\n            templist.append(\" \".join(listing))\n        templist \u003d set(templist)\n        sensesnetwork[i] +\u003d \" \" + (\" \".join(templist))\n        for usage_domain in wn.synsets(word)[i].usage_domains():\n            senseslist.append(normalize(usage_domain.definition()))\n        templist \u003d []\n        for listing in senseslist:\n            templist.append(\" \".join(listing))\n        templist \u003d set(templist)\n        sensesnetwork[i] +\u003d \" \" + (\" \".join(templist))\n        sensesnetwork[i].lstrip()\n    return sensesnetwork\n            \nbreakchoicetoken \u003d [normalizewithstops(line) for line in breakchoice]",
      "metadata": {
        "pycharm": {
          "metadata": false,
          "name": "#%%\n"
        }
      }
    },
    {
      "cell_type": "code",
      "execution_count": 124,
      "outputs": [
        {
          "name": "stdout",
          "text": [
            "           words  wordind  sentind  defid  \\\n0          break       32        0      6   \n1          break      105        1     11   \n2          break       68        2     10   \n3          break        2        3      6   \n4          break       79        4      3   \n5     break down       26        5      1   \n6     break down        2        6      1   \n7          break        3        7     21   \n8  break through       11        8      0   \n9          break       21        9      0   \n\n                                                                                                    definition  \\\n0                                     a time interval during which there is a temporary cessation of something   \n1                                 (tennis) a score consisting of winning a game when your opponent was serving   \n2                                                the opening shot that scatters the balls in billiards or pool   \n3                                     a time interval during which there is a temporary cessation of something   \n4                                               a personal or social separation (as between opposing factions)   \n5  make a mathematical, chemical, or grammatical analysis of; break down into components or essential features   \n6  make a mathematical, chemical, or grammatical analysis of; break down into components or essential features   \n7                                                      act in disregard of laws, rules, contracts, or promises   \n8                                                                                     pass through (a barrier)   \n9                                                   some abrupt occurrence that interrupts an ongoing activity   \n\n                                                                                                                                                                                                    context  \n0      ng an interview with 103.5 KTU in September, she was asked what she thought of Selena Gomez taking a break from her career to deal with anxiety, depression and panic attacks caused by her lupus.\\n  \n1  , including Libya and Syria. Her expedition officially started on July 24, 2015, and she\u0027s trying to break the Guinness World Record of Graham Hughes , who accomplished the same feat in four years, 31  \n2   minutes from halftime. Diakite then converted a layup on the other end to prompt a Yale timeout and break the Cavaliers out of a sluggish first-half stretch that saw them miss 14 of their first 17 fi  \n3                                                                                               “Take a break from Facebook, from your TV, from your apps,” she advised. “Unplugging is super important.” S  \n4  le Foods and heading towards her royal beau\u0027s home at Kensington Palace. The actress recently took a break from filming Suits , and it seems that she\u0027s using the time to get up close and personal with  \n5  ing highway and bridge projects with the federal gas tax through 2008, but then the process began to break down as the trust fund began to run out of money, and lawmakers resorted to a series of stop-  \n6                                                                                              After we break down Week 13 D/ST options into tiers like usual, we will bust out our fantasy playoff battle   \n7                                                                           Following the international break Atleti faces Real in a titanic capital derby, while the Blues will square off against Middles  \n8                                          Police said they made five arrests among anti-fascists who tried to break through police lines before the demonstration eventually dispersed in the afternoon.\\n  \n9                                    of its commanders during battle preparations in Aleppo after a rebel offensive launched last week to break the government\u0027s siege of the city\u0027s rebel neighborhoods.\\n  \n"
          ],
          "output_type": "stream"
        }
      ],
      "source": "breaklist \u003d []\nfor i, text in enumerate(breakchoicetoken):\n    dis_text \u003d []\n    words_in_context \u003d get_words_in_context(text, window\u003d 50)\n    index \u003d getindex(text, \"break\")\n    collocation \u003d getcollocation(text, \"break\")\n    word, nsense, wordclean \u003d adaptivelesk(words_in_context[index][0], words_in_context[index][1], collocation)\n    findind \u003d breakchoice[i].find(\" {} \".format(wordclean))\n    breaklist.append((wordclean, index, i, nsense, wn.synsets(word)[nsense].definition(), breakchoice[i][max(0,findind-100):findind+100]))\nlabels \u003d [\"words\", \"wordind\", \"sentind\", \"defid\", \"definition\", \"context\"]\nFinalData7 \u003d pd.DataFrame.from_records(breaklist, columns\u003dlabels)\nprint(FinalData7)",
      "metadata": {
        "pycharm": {
          "metadata": false,
          "name": "#%%    \n"
        }
      }
    },
    {
      "cell_type": "code",
      "execution_count": 125,
      "outputs": [
        {
          "name": "stdout",
          "text": [
            "           words  wordind  sentind  defid  \\\n0          break       32        0      6   \n1          break      105        1     11   \n2          break       68        2     10   \n3          break        2        3      6   \n4          break       79        4      3   \n5     break down       26        5      1   \n6     break down        2        6      1   \n7          break        3        7     21   \n8  break through       11        8      0   \n9          break       21        9      0   \n\n                                                                                                    definition  \\\n0                                     a time interval during which there is a temporary cessation of something   \n1                                 (tennis) a score consisting of winning a game when your opponent was serving   \n2                                                the opening shot that scatters the balls in billiards or pool   \n3                                     a time interval during which there is a temporary cessation of something   \n4                                               a personal or social separation (as between opposing factions)   \n5  make a mathematical, chemical, or grammatical analysis of; break down into components or essential features   \n6  make a mathematical, chemical, or grammatical analysis of; break down into components or essential features   \n7                                                      act in disregard of laws, rules, contracts, or promises   \n8                                                                                     pass through (a barrier)   \n9                                                   some abrupt occurrence that interrupts an ongoing activity   \n\n                                                                                                                                                                                                    context  \n0      ng an interview with 103.5 KTU in September, she was asked what she thought of Selena Gomez taking a break from her career to deal with anxiety, depression and panic attacks caused by her lupus.\\n  \n1  , including Libya and Syria. Her expedition officially started on July 24, 2015, and she\u0027s trying to break the Guinness World Record of Graham Hughes , who accomplished the same feat in four years, 31  \n2   minutes from halftime. Diakite then converted a layup on the other end to prompt a Yale timeout and break the Cavaliers out of a sluggish first-half stretch that saw them miss 14 of their first 17 fi  \n3                                                                                               “Take a break from Facebook, from your TV, from your apps,” she advised. “Unplugging is super important.” S  \n4  le Foods and heading towards her royal beau\u0027s home at Kensington Palace. The actress recently took a break from filming Suits , and it seems that she\u0027s using the time to get up close and personal with  \n5  ing highway and bridge projects with the federal gas tax through 2008, but then the process began to break down as the trust fund began to run out of money, and lawmakers resorted to a series of stop-  \n6                                                                                              After we break down Week 13 D/ST options into tiers like usual, we will bust out our fantasy playoff battle   \n7                                                                           Following the international break Atleti faces Real in a titanic capital derby, while the Blues will square off against Middles  \n8                                          Police said they made five arrests among anti-fascists who tried to break through police lines before the demonstration eventually dispersed in the afternoon.\\n  \n9                                    of its commanders during battle preparations in Aleppo after a rebel offensive launched last week to break the government\u0027s siege of the city\u0027s rebel neighborhoods.\\n  \n"
          ],
          "output_type": "stream"
        }
      ],
      "source": "breaklist \u003d []\nfor i, text in enumerate(breakchoicetoken):\n    dis_text \u003d []\n    words_in_context \u003d get_words_in_context(text, window\u003d 100)\n    index \u003d getindex(text, \"break\")\n    collocation \u003d getcollocation(text, \"break\")\n    word, nsense, wordclean \u003d adaptivelesk(words_in_context[index][0], words_in_context[index][1], collocation)\n    findind \u003d breakchoice[i].find(\" {} \".format(wordclean))\n    breaklist.append((wordclean, index, i, nsense, wn.synsets(word)[nsense].definition(), breakchoice[i][max(0,findind-100):findind+100]))\nlabels \u003d [\"words\", \"wordind\", \"sentind\", \"defid\", \"definition\", \"context\"]\nFinalData8 \u003d pd.DataFrame.from_records(breaklist, columns\u003dlabels)\nprint(FinalData8)",
      "metadata": {
        "pycharm": {
          "metadata": false,
          "name": "#%%\n"
        }
      }
    },
    {
      "cell_type": "markdown",
      "source": "We tried with window \u003d 50 and window \u003d 100, and results are the same for both windows. The quality of the results improves! We see that the algorithm is able to catch our phrasal verbs (3) and to attribute the right meaning to 2 of them (sentence 6 and 8). We have also the ideal definition (not only acceptable) in sentence 0 and 3.\nLet\u0027s try to add the last feature by adding POS tagging and network disambiguation by POS.",
      "metadata": {
        "pycharm": {
          "metadata": false,
          "name": "#%% md\n"
        }
      }
    },
    {
      "cell_type": "code",
      "execution_count": 126,
      "outputs": [],
      "source": "def morphanalyze(words):\n    tagtranslate \u003d {\"NN\" : \"n\", \"NNS\" : \"n\", \"NNP\" : \"n\", \"NNPS\" : \"n\", \"JJ\" : \"a\", \"JJR\" : \"a\", \"JJS\" : \"a\", \"VB\" : \"v\", \"VBD\" : \"v\", \"VBG\" : \"v\", \"VBN\" : \"v\", \"VBP\" : \"v\", \"VBZ\" : \"v\", \"RB\" : \"r\", \"RBR\" : \"r\", \"RBS\" : \"r\"}\n    tagwords \u003d nltk.pos_tag(words)\n    for token in tagwords:\n        if token[0] \u003d\u003d \"break\":\n            pos \u003d token[1]\n            pos \u003d tagtranslate[pos]\n            return pos\n            \n            \ndef adaptivelesk(word, sentence, collocation, pos):\n    bestsense \u003d 0\n    maxoverlap \u003d 0\n    wordclean \u003d word\n    testcollocationaft \u003d collocation[0] + \"_\" + collocation[1]\n    testcollocationbef \u003d collocation[2] + \"_\" + collocation[0]\n    if len(wn.synsets(testcollocationaft)) is not 0:\n        word \u003d testcollocationaft\n        wordclean \u003d collocation[0] + \" \" + collocation[1]\n    elif len(wn.synsets(testcollocationbef)) is not 0:\n        word \u003d testcollocationbef\n        wordclean \u003d collocation[2] + \" \" + collocation[0]\n    wordnetwork \u003d wordnetworkextractor(word)\n    for i, synset in enumerate(wn.synsets(word, pos\u003dpos)):\n        definition \u003d set(wordnetwork[i].split())\n        sentence \u003d set(sentence)\n        overlap \u003d len(definition \u0026 sentence)\n        if overlap \u003e maxoverlap:\n            maxoverlap \u003d overlap\n            bestsense \u003d i\n            \n    return word, bestsense, wordclean",
      "metadata": {
        "pycharm": {
          "metadata": false,
          "name": "#%%\n"
        }
      }
    },
    {
      "cell_type": "code",
      "execution_count": 127,
      "outputs": [
        {
          "name": "stdout",
          "text": [
            "           words  wordind  sentind  defid POS  \\\n0          break       32        0      6   n   \n1          break      105        1     11   v   \n2          break       68        2     10   v   \n3          break        2        3      6   n   \n4          break       79        4      3   n   \n5     break down       26        5      1   v   \n6     break down        2        6      1   v   \n7          break        3        7      0   n   \n8  break through       11        8      0   v   \n9          break       21        9      0   v   \n\n                                                                                                    definition  \\\n0                                     a time interval during which there is a temporary cessation of something   \n1                                 (tennis) a score consisting of winning a game when your opponent was serving   \n2                                                the opening shot that scatters the balls in billiards or pool   \n3                                     a time interval during which there is a temporary cessation of something   \n4                                               a personal or social separation (as between opposing factions)   \n5  make a mathematical, chemical, or grammatical analysis of; break down into components or essential features   \n6  make a mathematical, chemical, or grammatical analysis of; break down into components or essential features   \n7                                                   some abrupt occurrence that interrupts an ongoing activity   \n8                                                                                     pass through (a barrier)   \n9                                                   some abrupt occurrence that interrupts an ongoing activity   \n\n                                                                                                                                                                                                    context  \n0      ng an interview with 103.5 KTU in September, she was asked what she thought of Selena Gomez taking a break from her career to deal with anxiety, depression and panic attacks caused by her lupus.\\n  \n1  , including Libya and Syria. Her expedition officially started on July 24, 2015, and she\u0027s trying to break the Guinness World Record of Graham Hughes , who accomplished the same feat in four years, 31  \n2   minutes from halftime. Diakite then converted a layup on the other end to prompt a Yale timeout and break the Cavaliers out of a sluggish first-half stretch that saw them miss 14 of their first 17 fi  \n3                                                                                               “Take a break from Facebook, from your TV, from your apps,” she advised. “Unplugging is super important.” S  \n4  le Foods and heading towards her royal beau\u0027s home at Kensington Palace. The actress recently took a break from filming Suits , and it seems that she\u0027s using the time to get up close and personal with  \n5  ing highway and bridge projects with the federal gas tax through 2008, but then the process began to break down as the trust fund began to run out of money, and lawmakers resorted to a series of stop-  \n6                                                                                              After we break down Week 13 D/ST options into tiers like usual, we will bust out our fantasy playoff battle   \n7                                                                           Following the international break Atleti faces Real in a titanic capital derby, while the Blues will square off against Middles  \n8                                          Police said they made five arrests among anti-fascists who tried to break through police lines before the demonstration eventually dispersed in the afternoon.\\n  \n9                                    of its commanders during battle preparations in Aleppo after a rebel offensive launched last week to break the government\u0027s siege of the city\u0027s rebel neighborhoods.\\n  \n"
          ],
          "output_type": "stream"
        }
      ],
      "source": "breaklist \u003d []\nfor i, text in enumerate(breakchoicetoken):\n    breakchoicetokenpos \u003d [tokenizewithstops(line) for line in breakchoice[i]]\n    pos \u003d morphanalyze(breakchoicetokenpos)\n    dis_text \u003d []\n    words_in_context \u003d get_words_in_context(text, window\u003d 50)\n    index \u003d getindex(text, \"break\")\n    collocation \u003d getcollocation(text, \"break\")\n    word, nsense, wordclean \u003d adaptivelesk(words_in_context[index][0], words_in_context[index][1], collocation, pos)\n    findind \u003d breakchoice[i].find(\" {} \".format(wordclean))\n    breaklist.append((wordclean, index, i, nsense, pos, wn.synsets(word)[nsense].definition(), breakchoice[i][max(0,findind-100):findind+100]))\nlabels \u003d [\"words\", \"wordind\", \"sentind\", \"defid\", \"POS\", \"definition\", \"context\"]\nFinalData8 \u003d pd.DataFrame.from_records(breaklist, columns\u003dlabels)\nprint(FinalData8)",
      "metadata": {
        "pycharm": {
          "metadata": false,
          "name": "#%%\n"
        }
      }
    },
    {
      "cell_type": "markdown",
      "source": "with POS tagging we have a 5/10 accuracy with sentence 7 getting a relatable meaning. With sentence 2 the sentence context (many sports terms) and the distance between \"break\" and \"down\" makes hard to catch the phrasal verb and give the right meaning, in sentence 1 the meaning is intended as sport too (world, record, accomplish, feat, try). The words close and personal makes the definition of break incorrect but overally catch properly the context meaning (it is about a personal separation). Break down is assigned the same meaning in both cases, probably related to the small number of meanings of the extended network of the phrasal verb. Sentence 9 is literally correct (breaking a siege of a city \u003d abrupt occurrence that interrupts an ongoing activity) but there are more appropriate meaning. Here the one choes is one of the most general ones in the network. if we consider this to be correct we have a score of 6/10, more than the 40% predicted in the paper for this kind on network.",
      "metadata": {
        "pycharm": {
          "metadata": false,
          "name": "#%% md\n"
        }
      }
    }
  ],
  "metadata": {
    "language_info": {
      "codemirror_mode": {
        "name": "ipython",
        "version": 2
      },
      "file_extension": ".py",
      "mimetype": "text/x-python",
      "name": "python",
      "nbconvert_exporter": "python",
      "pygments_lexer": "ipython2",
      "version": "2.7.6"
    },
    "kernelspec": {
      "name": "python3",
      "language": "python",
      "display_name": "Python 3"
    }
  },
  "nbformat": 4,
  "nbformat_minor": 0
}
